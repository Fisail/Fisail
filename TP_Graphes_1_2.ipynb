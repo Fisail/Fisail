{
  "cells": [
    {
      "cell_type": "markdown",
      "metadata": {
        "id": "view-in-github",
        "colab_type": "text"
      },
      "source": [
        "<a href=\"https://colab.research.google.com/github/Fisail/Fisail/blob/main/TP_Graphes_1_2.ipynb\" target=\"_parent\"><img src=\"https://colab.research.google.com/assets/colab-badge.svg\" alt=\"Open In Colab\"/></a>"
      ]
    },
    {
      "cell_type": "markdown",
      "id": "d415db8f",
      "metadata": {
        "id": "d415db8f"
      },
      "source": [
        "# Présentation du TP\n",
        "\n",
        "Dans ce TP, l'objectif est d'implémenter les opérations simples sur les graphes orientés. \n",
        "La représentation choisie pour les graphes est une matrice d'adjacence, qui sera représentée par un tableau de tableau (les noms des sommets sont des entiers et seront numérotés en commençant à 0). Nous considérons que le nombre de sommets du graphe ne pourra pas être modifié une fois le graphe construit."
      ]
    },
    {
      "cell_type": "markdown",
      "id": "dceb8c25",
      "metadata": {
        "id": "dceb8c25"
      },
      "source": [
        "## Définition des fonctions pour l'affichage des graphes (code entièrement donné)"
      ]
    },
    {
      "cell_type": "markdown",
      "id": "005d51f9",
      "metadata": {
        "id": "005d51f9"
      },
      "source": [
        "### Installation de graphviz pour pouvoir visualiser les graphes"
      ]
    },
    {
      "cell_type": "code",
      "execution_count": 1,
      "id": "e88950ae",
      "metadata": {
        "colab": {
          "base_uri": "https://localhost:8080/"
        },
        "id": "e88950ae",
        "outputId": "213c754f-d97a-4c77-e7cd-28889a70d949"
      },
      "outputs": [
        {
          "output_type": "stream",
          "name": "stdout",
          "text": [
            "Looking in indexes: https://pypi.org/simple, https://us-python.pkg.dev/colab-wheels/public/simple/\n",
            "Requirement already satisfied: graphviz in /usr/local/lib/python3.10/dist-packages (0.20.1)\n"
          ]
        },
        {
          "output_type": "execute_result",
          "data": {
            "text/plain": [
              "('0.20.1', (2, 43, 0))"
            ]
          },
          "metadata": {},
          "execution_count": 1
        }
      ],
      "source": [
        "%pip install graphviz\n",
        "import graphviz\n",
        "graphviz.__version__, graphviz.version()"
      ]
    },
    {
      "cell_type": "markdown",
      "id": "449c13e3",
      "metadata": {
        "id": "449c13e3"
      },
      "source": [
        "### Création d'une fonction de conversion d'un graphe, défini par une matrice d'adjacence, vers le format graphviz"
      ]
    },
    {
      "cell_type": "code",
      "execution_count": 2,
      "id": "a9fbb3ff",
      "metadata": {
        "id": "a9fbb3ff"
      },
      "outputs": [],
      "source": [
        "def creation_graphe_graphviz(g):\n",
        "    # création d'un graphe orienté\n",
        "    dot = graphviz.Digraph()\n",
        "    \n",
        "    # ajout des sommets\n",
        "    for i in range(len(g)):\n",
        "        dot.node(str(i))\n",
        "    \n",
        "    # ajout des arcs\n",
        "    for i in range(len(g)):\n",
        "        for j in range(len(g)):\n",
        "            if g[i][j] == 1:\n",
        "                dot.edge(str(i), str(j))\n",
        "    \n",
        "    return dot"
      ]
    },
    {
      "cell_type": "markdown",
      "id": "e1d0f31f",
      "metadata": {
        "id": "e1d0f31f"
      },
      "source": [
        "### Création et affichage d'un premier graphe orienté\n"
      ]
    },
    {
      "cell_type": "code",
      "execution_count": 172,
      "id": "df570542",
      "metadata": {
        "id": "df570542"
      },
      "outputs": [],
      "source": [
        "graphe1 = [[0,1,1],\n",
        "          [1,0,1],\n",
        "          [1,0,0]]"
      ]
    },
    {
      "cell_type": "markdown",
      "id": "d7e9613c",
      "metadata": {
        "id": "d7e9613c"
      },
      "source": [
        "#### Affichage de la matrice"
      ]
    },
    {
      "cell_type": "code",
      "execution_count": 167,
      "id": "31dbf130",
      "metadata": {
        "colab": {
          "base_uri": "https://localhost:8080/"
        },
        "id": "31dbf130",
        "outputId": "80e0a2bb-18e2-409b-d463-6a7590f48dbf"
      },
      "outputs": [
        {
          "output_type": "stream",
          "name": "stdout",
          "text": [
            "[[0, 1, 1], [1, 0, 1], [1, 0, 0]]\n"
          ]
        }
      ],
      "source": [
        "print(graphe1)"
      ]
    },
    {
      "cell_type": "markdown",
      "id": "1860e47c",
      "metadata": {
        "id": "1860e47c"
      },
      "source": [
        "#### Création du graphe associé, au format graphviz, pour pouvoir faire l'affichage de la représentation sagittale du graphe"
      ]
    },
    {
      "cell_type": "code",
      "execution_count": 173,
      "id": "298ad6cb",
      "metadata": {
        "id": "298ad6cb"
      },
      "outputs": [],
      "source": [
        "gdot1 = creation_graphe_graphviz(graphe1)\n",
        "#print(gdot1.source)"
      ]
    },
    {
      "cell_type": "markdown",
      "id": "51c2124e",
      "metadata": {
        "id": "51c2124e"
      },
      "source": [
        "#### Affichage de la représentation sagittale du graphe"
      ]
    },
    {
      "cell_type": "code",
      "execution_count": 188,
      "id": "5dc106a2",
      "metadata": {
        "colab": {
          "base_uri": "https://localhost:8080/",
          "height": 272
        },
        "id": "5dc106a2",
        "outputId": "4df2a749-3e55-42be-a9d5-d73ba547b977"
      },
      "outputs": [
        {
          "output_type": "execute_result",
          "data": {
            "image/svg+xml": "<?xml version=\"1.0\" encoding=\"UTF-8\" standalone=\"no\"?>\n<!DOCTYPE svg PUBLIC \"-//W3C//DTD SVG 1.1//EN\"\n \"http://www.w3.org/Graphics/SVG/1.1/DTD/svg11.dtd\">\n<!-- Generated by graphviz version 2.43.0 (0)\n -->\n<!-- Title: %3 Pages: 1 -->\n<svg width=\"126pt\" height=\"188pt\"\n viewBox=\"0.00 0.00 126.00 188.00\" xmlns=\"http://www.w3.org/2000/svg\" xmlns:xlink=\"http://www.w3.org/1999/xlink\">\n<g id=\"graph0\" class=\"graph\" transform=\"scale(1 1) rotate(0) translate(4 184)\">\n<title>%3</title>\n<polygon fill=\"white\" stroke=\"transparent\" points=\"-4,4 -4,-184 122,-184 122,4 -4,4\"/>\n<!-- 0 -->\n<g id=\"node1\" class=\"node\">\n<title>0</title>\n<ellipse fill=\"none\" stroke=\"black\" cx=\"59\" cy=\"-162\" rx=\"27\" ry=\"18\"/>\n<text text-anchor=\"middle\" x=\"59\" y=\"-158.3\" font-family=\"Times,serif\" font-size=\"14.00\">0</text>\n</g>\n<!-- 1 -->\n<g id=\"node2\" class=\"node\">\n<title>1</title>\n<ellipse fill=\"none\" stroke=\"black\" cx=\"27\" cy=\"-90\" rx=\"27\" ry=\"18\"/>\n<text text-anchor=\"middle\" x=\"27\" y=\"-86.3\" font-family=\"Times,serif\" font-size=\"14.00\">1</text>\n</g>\n<!-- 0&#45;&gt;1 -->\n<g id=\"edge1\" class=\"edge\">\n<title>0&#45;&gt;1</title>\n<path fill=\"none\" stroke=\"black\" d=\"M46.38,-145.81C41.61,-137.57 36.55,-127.15 32.59,-117.62\"/>\n<polygon fill=\"black\" stroke=\"black\" points=\"35.8,-116.2 28.93,-108.13 29.27,-118.72 35.8,-116.2\"/>\n</g>\n<!-- 2 -->\n<g id=\"node3\" class=\"node\">\n<title>2</title>\n<ellipse fill=\"none\" stroke=\"black\" cx=\"91\" cy=\"-18\" rx=\"27\" ry=\"18\"/>\n<text text-anchor=\"middle\" x=\"91\" y=\"-14.3\" font-family=\"Times,serif\" font-size=\"14.00\">2</text>\n</g>\n<!-- 0&#45;&gt;2 -->\n<g id=\"edge2\" class=\"edge\">\n<title>0&#45;&gt;2</title>\n<path fill=\"none\" stroke=\"black\" d=\"M58.28,-143.87C61.22,-119.3 71.2,-73.85 79.75,-45.08\"/>\n<polygon fill=\"black\" stroke=\"black\" points=\"83.17,-45.9 82.83,-35.31 76.49,-43.8 83.17,-45.9\"/>\n</g>\n<!-- 1&#45;&gt;0 -->\n<g id=\"edge3\" class=\"edge\">\n<title>1&#45;&gt;0</title>\n<path fill=\"none\" stroke=\"black\" d=\"M39.63,-106.2C44.37,-114.4 49.4,-124.75 53.35,-134.24\"/>\n<polygon fill=\"black\" stroke=\"black\" points=\"50.13,-135.63 57.01,-143.7 56.66,-133.11 50.13,-135.63\"/>\n</g>\n<!-- 1&#45;&gt;2 -->\n<g id=\"edge4\" class=\"edge\">\n<title>1&#45;&gt;2</title>\n<path fill=\"none\" stroke=\"black\" d=\"M40.57,-74.15C49.31,-64.6 60.83,-51.99 70.66,-41.25\"/>\n<polygon fill=\"black\" stroke=\"black\" points=\"73.28,-43.57 77.45,-33.82 68.12,-38.84 73.28,-43.57\"/>\n</g>\n<!-- 2&#45;&gt;0 -->\n<g id=\"edge5\" class=\"edge\">\n<title>2&#45;&gt;0</title>\n<path fill=\"none\" stroke=\"black\" d=\"M91.69,-36.43C88.7,-61.08 78.75,-106.33 70.23,-134.98\"/>\n<polygon fill=\"black\" stroke=\"black\" points=\"66.83,-134.12 67.16,-144.71 73.5,-136.22 66.83,-134.12\"/>\n</g>\n</g>\n</svg>\n",
            "text/plain": [
              "<graphviz.graphs.Digraph at 0x7f954c0c15a0>"
            ]
          },
          "metadata": {},
          "execution_count": 188
        }
      ],
      "source": [
        "gdot1 "
      ]
    },
    {
      "cell_type": "markdown",
      "id": "a77ed623",
      "metadata": {
        "id": "a77ed623"
      },
      "source": [
        "## Implémentation des premières fonctions pour manipuler les graphes (cellules de code à compléter)"
      ]
    },
    {
      "cell_type": "markdown",
      "id": "abc2b7c7",
      "metadata": {
        "id": "abc2b7c7"
      },
      "source": [
        "#### `graphe_vide(n)`: fonction qui construit un graphe vide (sans arcs), avec `n` sommets, et qui retourne la matrice d'adjacence correspondante"
      ]
    },
    {
      "cell_type": "code",
      "execution_count": 6,
      "id": "be1e1ee6",
      "metadata": {
        "id": "be1e1ee6"
      },
      "outputs": [],
      "source": [
        "def graphe_vide(n):\n",
        "    g = []\n",
        "    for i in range(n):\n",
        "        l = []\n",
        "        for j in range(n):\n",
        "            l.append(0)\n",
        "        g.append(l)\n",
        "    return g"
      ]
    },
    {
      "cell_type": "code",
      "execution_count": 7,
      "id": "a947a0fc",
      "metadata": {
        "colab": {
          "base_uri": "https://localhost:8080/",
          "height": 97
        },
        "id": "a947a0fc",
        "outputId": "708dc376-8226-4249-b977-946e835ea5d5"
      },
      "outputs": [
        {
          "output_type": "stream",
          "name": "stdout",
          "text": [
            "[[0, 0, 0, 0, 0], [0, 0, 0, 0, 0], [0, 0, 0, 0, 0], [0, 0, 0, 0, 0], [0, 0, 0, 0, 0]]\n"
          ]
        },
        {
          "output_type": "execute_result",
          "data": {
            "image/svg+xml": "<?xml version=\"1.0\" encoding=\"UTF-8\" standalone=\"no\"?>\n<!DOCTYPE svg PUBLIC \"-//W3C//DTD SVG 1.1//EN\"\n \"http://www.w3.org/Graphics/SVG/1.1/DTD/svg11.dtd\">\n<!-- Generated by graphviz version 2.43.0 (0)\n -->\n<!-- Title: %3 Pages: 1 -->\n<svg width=\"350pt\" height=\"44pt\"\n viewBox=\"0.00 0.00 350.00 44.00\" xmlns=\"http://www.w3.org/2000/svg\" xmlns:xlink=\"http://www.w3.org/1999/xlink\">\n<g id=\"graph0\" class=\"graph\" transform=\"scale(1 1) rotate(0) translate(4 40)\">\n<title>%3</title>\n<polygon fill=\"white\" stroke=\"transparent\" points=\"-4,4 -4,-40 346,-40 346,4 -4,4\"/>\n<!-- 0 -->\n<g id=\"node1\" class=\"node\">\n<title>0</title>\n<ellipse fill=\"none\" stroke=\"black\" cx=\"27\" cy=\"-18\" rx=\"27\" ry=\"18\"/>\n<text text-anchor=\"middle\" x=\"27\" y=\"-14.3\" font-family=\"Times,serif\" font-size=\"14.00\">0</text>\n</g>\n<!-- 1 -->\n<g id=\"node2\" class=\"node\">\n<title>1</title>\n<ellipse fill=\"none\" stroke=\"black\" cx=\"99\" cy=\"-18\" rx=\"27\" ry=\"18\"/>\n<text text-anchor=\"middle\" x=\"99\" y=\"-14.3\" font-family=\"Times,serif\" font-size=\"14.00\">1</text>\n</g>\n<!-- 2 -->\n<g id=\"node3\" class=\"node\">\n<title>2</title>\n<ellipse fill=\"none\" stroke=\"black\" cx=\"171\" cy=\"-18\" rx=\"27\" ry=\"18\"/>\n<text text-anchor=\"middle\" x=\"171\" y=\"-14.3\" font-family=\"Times,serif\" font-size=\"14.00\">2</text>\n</g>\n<!-- 3 -->\n<g id=\"node4\" class=\"node\">\n<title>3</title>\n<ellipse fill=\"none\" stroke=\"black\" cx=\"243\" cy=\"-18\" rx=\"27\" ry=\"18\"/>\n<text text-anchor=\"middle\" x=\"243\" y=\"-14.3\" font-family=\"Times,serif\" font-size=\"14.00\">3</text>\n</g>\n<!-- 4 -->\n<g id=\"node5\" class=\"node\">\n<title>4</title>\n<ellipse fill=\"none\" stroke=\"black\" cx=\"315\" cy=\"-18\" rx=\"27\" ry=\"18\"/>\n<text text-anchor=\"middle\" x=\"315\" y=\"-14.3\" font-family=\"Times,serif\" font-size=\"14.00\">4</text>\n</g>\n</g>\n</svg>\n",
            "text/plain": [
              "<graphviz.graphs.Digraph at 0x7f95797418a0>"
            ]
          },
          "metadata": {},
          "execution_count": 7
        }
      ],
      "source": [
        "# test de la fonction graphe_vide\n",
        "graphe2 = graphe_vide(5)\n",
        "print(graphe2)\n",
        "gdot2 = creation_graphe_graphviz(graphe2)\n",
        "gdot2"
      ]
    },
    {
      "cell_type": "markdown",
      "id": "ccee626c",
      "metadata": {
        "id": "ccee626c"
      },
      "source": [
        "#### `est_arc(g, i, j)` : fonction qui retourne vrai si l'arc `(i,j)` existe dans le graphe `g`"
      ]
    },
    {
      "cell_type": "code",
      "execution_count": 26,
      "id": "44bfc4ae",
      "metadata": {
        "id": "44bfc4ae"
      },
      "outputs": [],
      "source": [
        "def est_arc(g, i, j):\n",
        "    if g[i][j] == 1:\n",
        "        return True\n",
        "    return False\n"
      ]
    },
    {
      "cell_type": "code",
      "execution_count": 27,
      "id": "696f1c57",
      "metadata": {
        "colab": {
          "base_uri": "https://localhost:8080/"
        },
        "id": "696f1c57",
        "outputId": "46f37a9c-bb15-43e3-82eb-6b07fd23158f"
      },
      "outputs": [
        {
          "output_type": "stream",
          "name": "stdout",
          "text": [
            "False\n",
            "True\n"
          ]
        }
      ],
      "source": [
        "# test de la fonction est_arc\n",
        "print(est_arc(graphe1, 0, 0))\n",
        "print(est_arc(graphe1, 0, 1))"
      ]
    },
    {
      "cell_type": "markdown",
      "id": "67ffdf0e",
      "metadata": {
        "id": "67ffdf0e"
      },
      "source": [
        "#### `ajoute_arc(g, i, j)` : fonction qui ajoute l'arc `(i,j)` au graphe `g`, s'il n'est pas déjà présent"
      ]
    },
    {
      "cell_type": "code",
      "execution_count": 29,
      "id": "8d387fe7",
      "metadata": {
        "id": "8d387fe7"
      },
      "outputs": [],
      "source": [
        "def ajoute_arc(g, i, j):\n",
        "    if not est_arc(g,i,j):\n",
        "      g[i][j] = 1"
      ]
    },
    {
      "cell_type": "code",
      "execution_count": 88,
      "id": "7f637c0c",
      "metadata": {
        "colab": {
          "base_uri": "https://localhost:8080/",
          "height": 272
        },
        "id": "7f637c0c",
        "outputId": "83bb6426-128e-4fc5-c11c-d843080303d3"
      },
      "outputs": [
        {
          "output_type": "execute_result",
          "data": {
            "image/svg+xml": "<?xml version=\"1.0\" encoding=\"UTF-8\" standalone=\"no\"?>\n<!DOCTYPE svg PUBLIC \"-//W3C//DTD SVG 1.1//EN\"\n \"http://www.w3.org/Graphics/SVG/1.1/DTD/svg11.dtd\">\n<!-- Generated by graphviz version 2.43.0 (0)\n -->\n<!-- Title: %3 Pages: 1 -->\n<svg width=\"94pt\" height=\"188pt\"\n viewBox=\"0.00 0.00 94.00 188.00\" xmlns=\"http://www.w3.org/2000/svg\" xmlns:xlink=\"http://www.w3.org/1999/xlink\">\n<g id=\"graph0\" class=\"graph\" transform=\"scale(1 1) rotate(0) translate(4 184)\">\n<title>%3</title>\n<polygon fill=\"white\" stroke=\"transparent\" points=\"-4,4 -4,-184 90,-184 90,4 -4,4\"/>\n<!-- 0 -->\n<g id=\"node1\" class=\"node\">\n<title>0</title>\n<ellipse fill=\"none\" stroke=\"black\" cx=\"59\" cy=\"-162\" rx=\"27\" ry=\"18\"/>\n<text text-anchor=\"middle\" x=\"59\" y=\"-158.3\" font-family=\"Times,serif\" font-size=\"14.00\">0</text>\n</g>\n<!-- 1 -->\n<g id=\"node2\" class=\"node\">\n<title>1</title>\n<ellipse fill=\"none\" stroke=\"black\" cx=\"27\" cy=\"-90\" rx=\"27\" ry=\"18\"/>\n<text text-anchor=\"middle\" x=\"27\" y=\"-86.3\" font-family=\"Times,serif\" font-size=\"14.00\">1</text>\n</g>\n<!-- 0&#45;&gt;1 -->\n<g id=\"edge1\" class=\"edge\">\n<title>0&#45;&gt;1</title>\n<path fill=\"none\" stroke=\"black\" d=\"M46.38,-145.81C41.61,-137.57 36.55,-127.15 32.59,-117.62\"/>\n<polygon fill=\"black\" stroke=\"black\" points=\"35.8,-116.2 28.93,-108.13 29.27,-118.72 35.8,-116.2\"/>\n</g>\n<!-- 2 -->\n<g id=\"node3\" class=\"node\">\n<title>2</title>\n<ellipse fill=\"none\" stroke=\"black\" cx=\"59\" cy=\"-18\" rx=\"27\" ry=\"18\"/>\n<text text-anchor=\"middle\" x=\"59\" y=\"-14.3\" font-family=\"Times,serif\" font-size=\"14.00\">2</text>\n</g>\n<!-- 0&#45;&gt;2 -->\n<g id=\"edge2\" class=\"edge\">\n<title>0&#45;&gt;2</title>\n<path fill=\"none\" stroke=\"black\" d=\"M52.82,-144.31C52.49,-133.88 53.54,-120.17 54,-108 54.6,-92.01 54.6,-87.99 54,-72 53.68,-63.44 53.06,-54.12 52.84,-45.72\"/>\n<polygon fill=\"black\" stroke=\"black\" points=\"56.34,-45.68 52.82,-35.69 49.34,-45.7 56.34,-45.68\"/>\n</g>\n<!-- 1&#45;&gt;0 -->\n<g id=\"edge3\" class=\"edge\">\n<title>1&#45;&gt;0</title>\n<path fill=\"none\" stroke=\"black\" d=\"M39.63,-106.2C44.37,-114.4 49.4,-124.75 53.35,-134.24\"/>\n<polygon fill=\"black\" stroke=\"black\" points=\"50.13,-135.63 57.01,-143.7 56.66,-133.11 50.13,-135.63\"/>\n</g>\n<!-- 1&#45;&gt;2 -->\n<g id=\"edge4\" class=\"edge\">\n<title>1&#45;&gt;2</title>\n<path fill=\"none\" stroke=\"black\" d=\"M28.99,-71.7C32.05,-63.07 36.7,-52.5 41.53,-43.1\"/>\n<polygon fill=\"black\" stroke=\"black\" points=\"44.67,-44.66 46.37,-34.2 38.52,-41.32 44.67,-44.66\"/>\n</g>\n<!-- 2&#45;&gt;0 -->\n<g id=\"edge5\" class=\"edge\">\n<title>2&#45;&gt;0</title>\n<path fill=\"none\" stroke=\"black\" d=\"M68.25,-35.22C70.46,-45.7 71.53,-59.64 72,-72 72.6,-87.99 72.6,-92.01 72,-108 71.67,-116.69 71.04,-126.16 69.93,-134.66\"/>\n<polygon fill=\"black\" stroke=\"black\" points=\"66.44,-134.34 68.25,-144.78 73.34,-135.49 66.44,-134.34\"/>\n</g>\n<!-- 2&#45;&gt;1 -->\n<g id=\"edge6\" class=\"edge\">\n<title>2&#45;&gt;1</title>\n<path fill=\"none\" stroke=\"black\" d=\"M57.07,-36.13C54.02,-44.77 49.34,-55.4 44.49,-64.86\"/>\n<polygon fill=\"black\" stroke=\"black\" points=\"41.32,-63.35 39.62,-73.81 47.47,-66.7 41.32,-63.35\"/>\n</g>\n</g>\n</svg>\n",
            "text/plain": [
              "<graphviz.graphs.Digraph at 0x7f954c0c2ef0>"
            ]
          },
          "metadata": {},
          "execution_count": 88
        }
      ],
      "source": [
        "# test de la fonction ajoute_arc\n",
        "ajoute_arc(graphe1, 2, 1)\n",
        "gdot1 = creation_graphe_graphviz(graphe1)\n",
        "gdot1"
      ]
    },
    {
      "cell_type": "code",
      "execution_count": 84,
      "id": "0d4721f1",
      "metadata": {
        "colab": {
          "base_uri": "https://localhost:8080/",
          "height": 272
        },
        "id": "0d4721f1",
        "outputId": "57dc2ecc-4d50-4a83-da07-3f99683bd4b5"
      },
      "outputs": [
        {
          "output_type": "execute_result",
          "data": {
            "image/svg+xml": "<?xml version=\"1.0\" encoding=\"UTF-8\" standalone=\"no\"?>\n<!DOCTYPE svg PUBLIC \"-//W3C//DTD SVG 1.1//EN\"\n \"http://www.w3.org/Graphics/SVG/1.1/DTD/svg11.dtd\">\n<!-- Generated by graphviz version 2.43.0 (0)\n -->\n<!-- Title: %3 Pages: 1 -->\n<svg width=\"94pt\" height=\"188pt\"\n viewBox=\"0.00 0.00 94.00 188.00\" xmlns=\"http://www.w3.org/2000/svg\" xmlns:xlink=\"http://www.w3.org/1999/xlink\">\n<g id=\"graph0\" class=\"graph\" transform=\"scale(1 1) rotate(0) translate(4 184)\">\n<title>%3</title>\n<polygon fill=\"white\" stroke=\"transparent\" points=\"-4,4 -4,-184 90,-184 90,4 -4,4\"/>\n<!-- 0 -->\n<g id=\"node1\" class=\"node\">\n<title>0</title>\n<ellipse fill=\"none\" stroke=\"black\" cx=\"59\" cy=\"-162\" rx=\"27\" ry=\"18\"/>\n<text text-anchor=\"middle\" x=\"59\" y=\"-158.3\" font-family=\"Times,serif\" font-size=\"14.00\">0</text>\n</g>\n<!-- 1 -->\n<g id=\"node2\" class=\"node\">\n<title>1</title>\n<ellipse fill=\"none\" stroke=\"black\" cx=\"27\" cy=\"-90\" rx=\"27\" ry=\"18\"/>\n<text text-anchor=\"middle\" x=\"27\" y=\"-86.3\" font-family=\"Times,serif\" font-size=\"14.00\">1</text>\n</g>\n<!-- 0&#45;&gt;1 -->\n<g id=\"edge1\" class=\"edge\">\n<title>0&#45;&gt;1</title>\n<path fill=\"none\" stroke=\"black\" d=\"M46.38,-145.81C41.61,-137.57 36.55,-127.15 32.59,-117.62\"/>\n<polygon fill=\"black\" stroke=\"black\" points=\"35.8,-116.2 28.93,-108.13 29.27,-118.72 35.8,-116.2\"/>\n</g>\n<!-- 2 -->\n<g id=\"node3\" class=\"node\">\n<title>2</title>\n<ellipse fill=\"none\" stroke=\"black\" cx=\"59\" cy=\"-18\" rx=\"27\" ry=\"18\"/>\n<text text-anchor=\"middle\" x=\"59\" y=\"-14.3\" font-family=\"Times,serif\" font-size=\"14.00\">2</text>\n</g>\n<!-- 0&#45;&gt;2 -->\n<g id=\"edge2\" class=\"edge\">\n<title>0&#45;&gt;2</title>\n<path fill=\"none\" stroke=\"black\" d=\"M52.82,-144.31C52.49,-133.88 53.54,-120.17 54,-108 54.6,-92.01 54.6,-87.99 54,-72 53.68,-63.44 53.06,-54.12 52.84,-45.72\"/>\n<polygon fill=\"black\" stroke=\"black\" points=\"56.34,-45.68 52.82,-35.69 49.34,-45.7 56.34,-45.68\"/>\n</g>\n<!-- 1&#45;&gt;0 -->\n<g id=\"edge3\" class=\"edge\">\n<title>1&#45;&gt;0</title>\n<path fill=\"none\" stroke=\"black\" d=\"M39.63,-106.2C44.37,-114.4 49.4,-124.75 53.35,-134.24\"/>\n<polygon fill=\"black\" stroke=\"black\" points=\"50.13,-135.63 57.01,-143.7 56.66,-133.11 50.13,-135.63\"/>\n</g>\n<!-- 1&#45;&gt;2 -->\n<g id=\"edge4\" class=\"edge\">\n<title>1&#45;&gt;2</title>\n<path fill=\"none\" stroke=\"black\" d=\"M28.99,-71.7C32.05,-63.07 36.7,-52.5 41.53,-43.1\"/>\n<polygon fill=\"black\" stroke=\"black\" points=\"44.67,-44.66 46.37,-34.2 38.52,-41.32 44.67,-44.66\"/>\n</g>\n<!-- 2&#45;&gt;0 -->\n<g id=\"edge5\" class=\"edge\">\n<title>2&#45;&gt;0</title>\n<path fill=\"none\" stroke=\"black\" d=\"M68.25,-35.22C70.46,-45.7 71.53,-59.64 72,-72 72.6,-87.99 72.6,-92.01 72,-108 71.67,-116.69 71.04,-126.16 69.93,-134.66\"/>\n<polygon fill=\"black\" stroke=\"black\" points=\"66.44,-134.34 68.25,-144.78 73.34,-135.49 66.44,-134.34\"/>\n</g>\n<!-- 2&#45;&gt;1 -->\n<g id=\"edge6\" class=\"edge\">\n<title>2&#45;&gt;1</title>\n<path fill=\"none\" stroke=\"black\" d=\"M57.07,-36.13C54.02,-44.77 49.34,-55.4 44.49,-64.86\"/>\n<polygon fill=\"black\" stroke=\"black\" points=\"41.32,-63.35 39.62,-73.81 47.47,-66.7 41.32,-63.35\"/>\n</g>\n</g>\n</svg>\n",
            "text/plain": [
              "<graphviz.graphs.Digraph at 0x7f954c0c2230>"
            ]
          },
          "metadata": {},
          "execution_count": 84
        }
      ],
      "source": [
        "# test de la fonction ajoute_arc\n",
        "ajoute_arc(graphe1, 2, 1)\n",
        "gdot1 = creation_graphe_graphviz(graphe1)\n",
        "gdot1"
      ]
    },
    {
      "cell_type": "markdown",
      "id": "4198288a",
      "metadata": {
        "id": "4198288a"
      },
      "source": [
        "#### `ote_arc(g, i, j)`: fonction qui ote l'arc `(i,j)` du graphe `g`, s'il était déjà présent"
      ]
    },
    {
      "cell_type": "code",
      "execution_count": 95,
      "id": "159f7e07",
      "metadata": {
        "id": "159f7e07"
      },
      "outputs": [],
      "source": [
        "def ote_arc(g, i, j):\n",
        "    if est_arc(g,i,j):\n",
        "      g[i][j] = 0"
      ]
    },
    {
      "cell_type": "code",
      "execution_count": 96,
      "id": "de1b90d2",
      "metadata": {
        "colab": {
          "base_uri": "https://localhost:8080/",
          "height": 272
        },
        "id": "de1b90d2",
        "outputId": "685045e6-e908-4e2c-d3d1-90c5a8edef9f"
      },
      "outputs": [
        {
          "output_type": "execute_result",
          "data": {
            "image/svg+xml": "<?xml version=\"1.0\" encoding=\"UTF-8\" standalone=\"no\"?>\n<!DOCTYPE svg PUBLIC \"-//W3C//DTD SVG 1.1//EN\"\n \"http://www.w3.org/Graphics/SVG/1.1/DTD/svg11.dtd\">\n<!-- Generated by graphviz version 2.43.0 (0)\n -->\n<!-- Title: %3 Pages: 1 -->\n<svg width=\"126pt\" height=\"188pt\"\n viewBox=\"0.00 0.00 126.00 188.00\" xmlns=\"http://www.w3.org/2000/svg\" xmlns:xlink=\"http://www.w3.org/1999/xlink\">\n<g id=\"graph0\" class=\"graph\" transform=\"scale(1 1) rotate(0) translate(4 184)\">\n<title>%3</title>\n<polygon fill=\"white\" stroke=\"transparent\" points=\"-4,4 -4,-184 122,-184 122,4 -4,4\"/>\n<!-- 0 -->\n<g id=\"node1\" class=\"node\">\n<title>0</title>\n<ellipse fill=\"none\" stroke=\"black\" cx=\"59\" cy=\"-162\" rx=\"27\" ry=\"18\"/>\n<text text-anchor=\"middle\" x=\"59\" y=\"-158.3\" font-family=\"Times,serif\" font-size=\"14.00\">0</text>\n</g>\n<!-- 1 -->\n<g id=\"node2\" class=\"node\">\n<title>1</title>\n<ellipse fill=\"none\" stroke=\"black\" cx=\"27\" cy=\"-90\" rx=\"27\" ry=\"18\"/>\n<text text-anchor=\"middle\" x=\"27\" y=\"-86.3\" font-family=\"Times,serif\" font-size=\"14.00\">1</text>\n</g>\n<!-- 0&#45;&gt;1 -->\n<g id=\"edge1\" class=\"edge\">\n<title>0&#45;&gt;1</title>\n<path fill=\"none\" stroke=\"black\" d=\"M46.38,-145.81C41.61,-137.57 36.55,-127.15 32.59,-117.62\"/>\n<polygon fill=\"black\" stroke=\"black\" points=\"35.8,-116.2 28.93,-108.13 29.27,-118.72 35.8,-116.2\"/>\n</g>\n<!-- 2 -->\n<g id=\"node3\" class=\"node\">\n<title>2</title>\n<ellipse fill=\"none\" stroke=\"black\" cx=\"91\" cy=\"-18\" rx=\"27\" ry=\"18\"/>\n<text text-anchor=\"middle\" x=\"91\" y=\"-14.3\" font-family=\"Times,serif\" font-size=\"14.00\">2</text>\n</g>\n<!-- 0&#45;&gt;2 -->\n<g id=\"edge2\" class=\"edge\">\n<title>0&#45;&gt;2</title>\n<path fill=\"none\" stroke=\"black\" d=\"M58.28,-143.87C61.22,-119.3 71.2,-73.85 79.75,-45.08\"/>\n<polygon fill=\"black\" stroke=\"black\" points=\"83.17,-45.9 82.83,-35.31 76.49,-43.8 83.17,-45.9\"/>\n</g>\n<!-- 1&#45;&gt;0 -->\n<g id=\"edge3\" class=\"edge\">\n<title>1&#45;&gt;0</title>\n<path fill=\"none\" stroke=\"black\" d=\"M39.63,-106.2C44.37,-114.4 49.4,-124.75 53.35,-134.24\"/>\n<polygon fill=\"black\" stroke=\"black\" points=\"50.13,-135.63 57.01,-143.7 56.66,-133.11 50.13,-135.63\"/>\n</g>\n<!-- 1&#45;&gt;2 -->\n<g id=\"edge4\" class=\"edge\">\n<title>1&#45;&gt;2</title>\n<path fill=\"none\" stroke=\"black\" d=\"M40.57,-74.15C49.31,-64.6 60.83,-51.99 70.66,-41.25\"/>\n<polygon fill=\"black\" stroke=\"black\" points=\"73.28,-43.57 77.45,-33.82 68.12,-38.84 73.28,-43.57\"/>\n</g>\n<!-- 2&#45;&gt;0 -->\n<g id=\"edge5\" class=\"edge\">\n<title>2&#45;&gt;0</title>\n<path fill=\"none\" stroke=\"black\" d=\"M91.69,-36.43C88.7,-61.08 78.75,-106.33 70.23,-134.98\"/>\n<polygon fill=\"black\" stroke=\"black\" points=\"66.83,-134.12 67.16,-144.71 73.5,-136.22 66.83,-134.12\"/>\n</g>\n</g>\n</svg>\n",
            "text/plain": [
              "<graphviz.graphs.Digraph at 0x7f954c0c2800>"
            ]
          },
          "metadata": {},
          "execution_count": 96
        }
      ],
      "source": [
        "# test de la fonction ote_arc\n",
        "ote_arc(graphe1, 2, 1)\n",
        "gdot1 = creation_graphe_graphviz(graphe1)\n",
        "gdot1"
      ]
    },
    {
      "cell_type": "code",
      "execution_count": 98,
      "id": "64204e4b",
      "metadata": {
        "colab": {
          "base_uri": "https://localhost:8080/",
          "height": 272
        },
        "id": "64204e4b",
        "outputId": "5c87f422-e9c4-4677-e685-484416bcb658"
      },
      "outputs": [
        {
          "output_type": "execute_result",
          "data": {
            "image/svg+xml": "<?xml version=\"1.0\" encoding=\"UTF-8\" standalone=\"no\"?>\n<!DOCTYPE svg PUBLIC \"-//W3C//DTD SVG 1.1//EN\"\n \"http://www.w3.org/Graphics/SVG/1.1/DTD/svg11.dtd\">\n<!-- Generated by graphviz version 2.43.0 (0)\n -->\n<!-- Title: %3 Pages: 1 -->\n<svg width=\"126pt\" height=\"188pt\"\n viewBox=\"0.00 0.00 126.00 188.00\" xmlns=\"http://www.w3.org/2000/svg\" xmlns:xlink=\"http://www.w3.org/1999/xlink\">\n<g id=\"graph0\" class=\"graph\" transform=\"scale(1 1) rotate(0) translate(4 184)\">\n<title>%3</title>\n<polygon fill=\"white\" stroke=\"transparent\" points=\"-4,4 -4,-184 122,-184 122,4 -4,4\"/>\n<!-- 0 -->\n<g id=\"node1\" class=\"node\">\n<title>0</title>\n<ellipse fill=\"none\" stroke=\"black\" cx=\"59\" cy=\"-162\" rx=\"27\" ry=\"18\"/>\n<text text-anchor=\"middle\" x=\"59\" y=\"-158.3\" font-family=\"Times,serif\" font-size=\"14.00\">0</text>\n</g>\n<!-- 1 -->\n<g id=\"node2\" class=\"node\">\n<title>1</title>\n<ellipse fill=\"none\" stroke=\"black\" cx=\"27\" cy=\"-90\" rx=\"27\" ry=\"18\"/>\n<text text-anchor=\"middle\" x=\"27\" y=\"-86.3\" font-family=\"Times,serif\" font-size=\"14.00\">1</text>\n</g>\n<!-- 0&#45;&gt;1 -->\n<g id=\"edge1\" class=\"edge\">\n<title>0&#45;&gt;1</title>\n<path fill=\"none\" stroke=\"black\" d=\"M46.38,-145.81C41.61,-137.57 36.55,-127.15 32.59,-117.62\"/>\n<polygon fill=\"black\" stroke=\"black\" points=\"35.8,-116.2 28.93,-108.13 29.27,-118.72 35.8,-116.2\"/>\n</g>\n<!-- 2 -->\n<g id=\"node3\" class=\"node\">\n<title>2</title>\n<ellipse fill=\"none\" stroke=\"black\" cx=\"91\" cy=\"-18\" rx=\"27\" ry=\"18\"/>\n<text text-anchor=\"middle\" x=\"91\" y=\"-14.3\" font-family=\"Times,serif\" font-size=\"14.00\">2</text>\n</g>\n<!-- 0&#45;&gt;2 -->\n<g id=\"edge2\" class=\"edge\">\n<title>0&#45;&gt;2</title>\n<path fill=\"none\" stroke=\"black\" d=\"M58.28,-143.87C61.22,-119.3 71.2,-73.85 79.75,-45.08\"/>\n<polygon fill=\"black\" stroke=\"black\" points=\"83.17,-45.9 82.83,-35.31 76.49,-43.8 83.17,-45.9\"/>\n</g>\n<!-- 1&#45;&gt;0 -->\n<g id=\"edge3\" class=\"edge\">\n<title>1&#45;&gt;0</title>\n<path fill=\"none\" stroke=\"black\" d=\"M39.63,-106.2C44.37,-114.4 49.4,-124.75 53.35,-134.24\"/>\n<polygon fill=\"black\" stroke=\"black\" points=\"50.13,-135.63 57.01,-143.7 56.66,-133.11 50.13,-135.63\"/>\n</g>\n<!-- 1&#45;&gt;2 -->\n<g id=\"edge4\" class=\"edge\">\n<title>1&#45;&gt;2</title>\n<path fill=\"none\" stroke=\"black\" d=\"M40.57,-74.15C49.31,-64.6 60.83,-51.99 70.66,-41.25\"/>\n<polygon fill=\"black\" stroke=\"black\" points=\"73.28,-43.57 77.45,-33.82 68.12,-38.84 73.28,-43.57\"/>\n</g>\n<!-- 2&#45;&gt;0 -->\n<g id=\"edge5\" class=\"edge\">\n<title>2&#45;&gt;0</title>\n<path fill=\"none\" stroke=\"black\" d=\"M91.69,-36.43C88.7,-61.08 78.75,-106.33 70.23,-134.98\"/>\n<polygon fill=\"black\" stroke=\"black\" points=\"66.83,-134.12 67.16,-144.71 73.5,-136.22 66.83,-134.12\"/>\n</g>\n</g>\n</svg>\n",
            "text/plain": [
              "<graphviz.graphs.Digraph at 0x7f954c0c3100>"
            ]
          },
          "metadata": {},
          "execution_count": 98
        }
      ],
      "source": [
        "# test de la fonction ote_arc\n",
        "ote_arc(graphe1, 1, 1)\n",
        "gdot1 = creation_graphe_graphviz(graphe1)\n",
        "gdot1"
      ]
    },
    {
      "cell_type": "markdown",
      "id": "55015d2a",
      "metadata": {
        "id": "55015d2a"
      },
      "source": [
        "#### `nb_sommets(g)` : fonction qui retourne le nombre de sommets du graphe `g`"
      ]
    },
    {
      "cell_type": "code",
      "execution_count": 35,
      "id": "f324ceea",
      "metadata": {
        "id": "f324ceea"
      },
      "outputs": [],
      "source": [
        "def nb_sommets(g):\n",
        "    res = 0 \n",
        "    for i in range(len(g)):\n",
        "      res = res + 1\n",
        "    return res "
      ]
    },
    {
      "cell_type": "code",
      "execution_count": 36,
      "id": "da85241a",
      "metadata": {
        "colab": {
          "base_uri": "https://localhost:8080/"
        },
        "id": "da85241a",
        "outputId": "a0c1c7bd-20aa-4cb4-a0be-fa8d68026cc5"
      },
      "outputs": [
        {
          "output_type": "stream",
          "name": "stdout",
          "text": [
            "Nombre de sommets : 3\n"
          ]
        }
      ],
      "source": [
        "# test de la fonction nb_sommets\n",
        "n = nb_sommets(graphe1)\n",
        "print(\"Nombre de sommets :\", n)"
      ]
    },
    {
      "cell_type": "markdown",
      "id": "08d90dcb",
      "metadata": {
        "id": "08d90dcb"
      },
      "source": [
        "#### `est_simple(g)` : fonction qui indique si le graphe `g` est simple"
      ]
    },
    {
      "cell_type": "code",
      "execution_count": 76,
      "id": "f255d3e4",
      "metadata": {
        "id": "f255d3e4"
      },
      "outputs": [],
      "source": [
        "def est_simple(g):\n",
        "    for i in range(len(g)):\n",
        "      for j in range(len(g[i])):\n",
        "        if i == j and g[i][j] == 1:\n",
        "          return False\n",
        "    return True"
      ]
    },
    {
      "cell_type": "code",
      "execution_count": 77,
      "id": "4a512fd8",
      "metadata": {
        "colab": {
          "base_uri": "https://localhost:8080/"
        },
        "id": "4a512fd8",
        "outputId": "0defdc4a-4c0e-4a11-c4ff-c0d710dca46d"
      },
      "outputs": [
        {
          "output_type": "stream",
          "name": "stdout",
          "text": [
            "Graphe simple ? True\n"
          ]
        }
      ],
      "source": [
        "# test de la fonction est_simple\n",
        "print(\"Graphe simple ?\", est_simple(graphe1))"
      ]
    },
    {
      "cell_type": "markdown",
      "id": "5d1d7120",
      "metadata": {
        "id": "5d1d7120"
      },
      "source": [
        "#### `est_complet(g)` : fonction qui indique si le graphe `g` est complet"
      ]
    },
    {
      "cell_type": "code",
      "execution_count": 78,
      "id": "f8f90f5b",
      "metadata": {
        "id": "f8f90f5b"
      },
      "outputs": [],
      "source": [
        "def est_complet(g):\n",
        "    nb_arretes = 0\n",
        "    for i in range(len(g)):\n",
        "      for j in range(len(g[i])):\n",
        "        if g[i][j] == 1:\n",
        "          nb_arretes = nb_arretes + 1\n",
        "    \n",
        "    print(nb_arretes)\n",
        "    return (nb_arretes == (nb_sommets(g)*nb_sommets(g))-nb_sommets(g)) #Je soustrais par le nombre de sommets car on ne prend pas en compte les boucles pour cet exercice\n",
        "    \n",
        "    "
      ]
    },
    {
      "cell_type": "code",
      "execution_count": 79,
      "id": "432b6d2f",
      "metadata": {
        "colab": {
          "base_uri": "https://localhost:8080/"
        },
        "id": "432b6d2f",
        "outputId": "6619ffb3-b3f8-4402-e366-6f921e572b24"
      },
      "outputs": [
        {
          "output_type": "stream",
          "name": "stdout",
          "text": [
            "5\n",
            "Graphe complet ? False\n"
          ]
        }
      ],
      "source": [
        "# test de la fonction est_complet\n",
        "print(\"Graphe complet ?\", est_complet(graphe1))"
      ]
    },
    {
      "cell_type": "markdown",
      "id": "b104cd65",
      "metadata": {
        "id": "b104cd65"
      },
      "source": [
        "#### `est_symetrique(g)` : fonction qui indique si le graphe `g` est symétrique"
      ]
    },
    {
      "cell_type": "code",
      "execution_count": 91,
      "id": "7a797805",
      "metadata": {
        "id": "7a797805"
      },
      "outputs": [],
      "source": [
        "def est_symetrique(g):\n",
        "    for i in range(len(g)):\n",
        "      for j in range(len(g[i])):\n",
        "        if g[i][j] != g[j][i]:\n",
        "          return False\n",
        "    return True"
      ]
    },
    {
      "cell_type": "code",
      "execution_count": 92,
      "id": "3f2cb9dd",
      "metadata": {
        "colab": {
          "base_uri": "https://localhost:8080/"
        },
        "id": "3f2cb9dd",
        "outputId": "e1921455-6ebb-46cf-fa14-5a1eaba9b71d"
      },
      "outputs": [
        {
          "output_type": "stream",
          "name": "stdout",
          "text": [
            "Graphe symétrique ? True\n"
          ]
        }
      ],
      "source": [
        "# test de la fonction est_symetrique\n",
        "print(\"Graphe symétrique ?\", est_symetrique(graphe1))"
      ]
    },
    {
      "cell_type": "markdown",
      "id": "395f72c3",
      "metadata": {
        "id": "395f72c3"
      },
      "source": [
        "#### `degre_entrant(g, s)` : fonction qui retourne le degré entrant du sommet `s`, dans le graphe `g`"
      ]
    },
    {
      "cell_type": "code",
      "execution_count": 99,
      "id": "7aadcd51",
      "metadata": {
        "id": "7aadcd51"
      },
      "outputs": [],
      "source": [
        "def degre_entrant(g, s):\n",
        "    nb_precesseurs = 0 \n",
        "    for i in range(len(g)):\n",
        "      if i != s and g[i][s] == 1:\n",
        "        nb_precesseurs = nb_precesseurs + 1 \n",
        "    return nb_precesseurs"
      ]
    },
    {
      "cell_type": "code",
      "execution_count": 100,
      "id": "29835b01",
      "metadata": {
        "colab": {
          "base_uri": "https://localhost:8080/"
        },
        "id": "29835b01",
        "outputId": "48fca574-1fda-4b3b-b3af-77cf883d58a5"
      },
      "outputs": [
        {
          "output_type": "stream",
          "name": "stdout",
          "text": [
            "degré entrant du sommet 0 : 2\n",
            "degré entrant du sommet 1 : 1\n",
            "degré entrant du sommet 2 : 2\n"
          ]
        }
      ],
      "source": [
        "# test de la fonction degre_entrant\n",
        "print(\"degré entrant du sommet 0 :\", degre_entrant(graphe1,0))\n",
        "print(\"degré entrant du sommet 1 :\", degre_entrant(graphe1,1))\n",
        "print(\"degré entrant du sommet 2 :\", degre_entrant(graphe1,2))"
      ]
    },
    {
      "cell_type": "markdown",
      "id": "a9f5c1ad",
      "metadata": {
        "id": "a9f5c1ad"
      },
      "source": [
        "#### `degre_sortant(g, s)` : fonction qui retourne le degré sortant du sommet `s`, dans le graphe `g`"
      ]
    },
    {
      "cell_type": "code",
      "execution_count": 103,
      "id": "3a2faabf",
      "metadata": {
        "id": "3a2faabf"
      },
      "outputs": [],
      "source": [
        "def degre_sortant(g, s):\n",
        "    nb_sucesseurs = 0\n",
        "    for i in range(len(g)):\n",
        "      if g[s][i] == 1:\n",
        "        nb_sucesseurs = nb_sucesseurs + 1 \n",
        "    return nb_sucesseurs"
      ]
    },
    {
      "cell_type": "code",
      "execution_count": 104,
      "id": "f27c0ab6",
      "metadata": {
        "colab": {
          "base_uri": "https://localhost:8080/"
        },
        "id": "f27c0ab6",
        "outputId": "d05569c8-22e4-4a16-978a-5b8bc793ce27"
      },
      "outputs": [
        {
          "output_type": "stream",
          "name": "stdout",
          "text": [
            "degré sortant du sommet 0 : 2\n",
            "degré sortant du sommet 1 : 2\n",
            "degré sortant du sommet 2 : 1\n"
          ]
        }
      ],
      "source": [
        "# test de la fonction degre_sortant\n",
        "print(\"degré sortant du sommet 0 :\", degre_sortant(graphe1,0))\n",
        "print(\"degré sortant du sommet 1 :\", degre_sortant(graphe1,1))\n",
        "print(\"degré sortant du sommet 2 :\", degre_sortant(graphe1,2))"
      ]
    },
    {
      "cell_type": "markdown",
      "id": "96ad1768",
      "metadata": {
        "id": "96ad1768"
      },
      "source": [
        "#### `degre_total(g, s)` : fonction qui retourne le degré total du sommet `s`, dans le graphe `g`"
      ]
    },
    {
      "cell_type": "code",
      "execution_count": 105,
      "id": "9bdd478b",
      "metadata": {
        "id": "9bdd478b"
      },
      "outputs": [],
      "source": [
        "def degre_total(g, s):\n",
        "    return degre_entrant(g,s) + degre_sortant(g,s)"
      ]
    },
    {
      "cell_type": "code",
      "execution_count": 106,
      "id": "932c4201",
      "metadata": {
        "colab": {
          "base_uri": "https://localhost:8080/"
        },
        "id": "932c4201",
        "outputId": "0a18001e-2e5d-4d90-f3f9-1f4e6b70fdc3"
      },
      "outputs": [
        {
          "output_type": "stream",
          "name": "stdout",
          "text": [
            "degré total du sommet 0 : 4\n",
            "degré total du sommet 1 : 3\n",
            "degré total du sommet 2 : 3\n"
          ]
        }
      ],
      "source": [
        "# test de la fonction degre_total\n",
        "print(\"degré total du sommet 0 :\", degre_total(graphe1,0))\n",
        "print(\"degré total du sommet 1 :\", degre_total(graphe1,1))\n",
        "print(\"degré total du sommet 2 :\", degre_total(graphe1,2))"
      ]
    },
    {
      "cell_type": "markdown",
      "id": "6d5a22ea",
      "metadata": {
        "id": "6d5a22ea"
      },
      "source": [
        "#### `degres_entrants(g)` : fonction qui retourne les degrés entrants des sommets du graphe `g`, sous la forme d'une liste"
      ]
    },
    {
      "cell_type": "code",
      "execution_count": 109,
      "id": "819c6c43",
      "metadata": {
        "id": "819c6c43"
      },
      "outputs": [],
      "source": [
        "def degres_entrants(g):\n",
        "    degres = []\n",
        "    for i in range(len(g)):\n",
        "        degres.append(degre_entrant(g,i))\n",
        "    return degres"
      ]
    },
    {
      "cell_type": "code",
      "execution_count": 110,
      "id": "25a215a5",
      "metadata": {
        "colab": {
          "base_uri": "https://localhost:8080/"
        },
        "id": "25a215a5",
        "outputId": "59ed191d-7d5d-4f2e-f4cf-828f6e5939f4"
      },
      "outputs": [
        {
          "output_type": "stream",
          "name": "stdout",
          "text": [
            "[2, 1, 2]\n"
          ]
        }
      ],
      "source": [
        "# test de la fonction degres_entrants\n",
        "print(degres_entrants(graphe1))"
      ]
    },
    {
      "cell_type": "markdown",
      "id": "d33d8d8b",
      "metadata": {
        "id": "d33d8d8b"
      },
      "source": [
        "#### `degres_sortants(g)` : fonction qui retourne les degrés sortants des sommets du graphe `g`, sous la forme d'une liste"
      ]
    },
    {
      "cell_type": "code",
      "execution_count": 117,
      "id": "e29fcad9",
      "metadata": {
        "id": "e29fcad9"
      },
      "outputs": [],
      "source": [
        "def degres_sortants(g):\n",
        "    degres = []\n",
        "    for i in range(len(g)):\n",
        "        degres.append(degre_sortant(g,i))\n",
        "    return degres"
      ]
    },
    {
      "cell_type": "code",
      "execution_count": 118,
      "id": "d8e1cdc3",
      "metadata": {
        "colab": {
          "base_uri": "https://localhost:8080/"
        },
        "id": "d8e1cdc3",
        "outputId": "d0a62da7-d46c-4d39-d774-451a79113c06"
      },
      "outputs": [
        {
          "output_type": "stream",
          "name": "stdout",
          "text": [
            "[2, 2, 1]\n"
          ]
        }
      ],
      "source": [
        "# test de la fonction degres_sortants\n",
        "print(degres_sortants(graphe1))"
      ]
    },
    {
      "cell_type": "markdown",
      "id": "9d547e62",
      "metadata": {
        "id": "9d547e62"
      },
      "source": [
        "#### `degres_totaux(g)` : fonction qui retourne les degrés totaux des sommets du graphe `g`, sous la forme d'une liste"
      ]
    },
    {
      "cell_type": "code",
      "execution_count": 113,
      "id": "032b36e4",
      "metadata": {
        "id": "032b36e4"
      },
      "outputs": [],
      "source": [
        "def degres_totaux(g):\n",
        "    return degres_entrants(g) + degres_sortants(g)"
      ]
    },
    {
      "cell_type": "code",
      "execution_count": 114,
      "id": "b9b1e0db",
      "metadata": {
        "colab": {
          "base_uri": "https://localhost:8080/"
        },
        "id": "b9b1e0db",
        "outputId": "1b516666-fbdb-4c3c-f918-4a987a3321ee"
      },
      "outputs": [
        {
          "output_type": "stream",
          "name": "stdout",
          "text": [
            "[2, 1, 2, 2, 2, 1]\n"
          ]
        }
      ],
      "source": [
        "# test de la fonction degres_totaux\n",
        "print(degres_totaux(graphe1))"
      ]
    },
    {
      "cell_type": "markdown",
      "id": "cadf890f",
      "metadata": {
        "id": "cadf890f"
      },
      "source": [
        "#### `successeurs(g,s)` : fonction qui retourne un tableau contenant les noms des sommets successeurs du sommet `s`, dans le graphe `g`"
      ]
    },
    {
      "cell_type": "code",
      "execution_count": 125,
      "id": "2b95465e",
      "metadata": {
        "id": "2b95465e"
      },
      "outputs": [],
      "source": [
        "def successeurs(g,s):\n",
        "    successeurs = []\n",
        "    for i in range(len(g)):\n",
        "        if g[s][i] == 1:\n",
        "          successeurs.append(i)      \n",
        "    return successeurs"
      ]
    },
    {
      "cell_type": "code",
      "execution_count": 126,
      "id": "c149bc7a",
      "metadata": {
        "colab": {
          "base_uri": "https://localhost:8080/"
        },
        "id": "c149bc7a",
        "outputId": "228c2555-ddb7-4e9e-b26c-973b764c1a5c"
      },
      "outputs": [
        {
          "output_type": "stream",
          "name": "stdout",
          "text": [
            "Successeurs du sommet 0 : [1, 2]\n",
            "Successeurs du sommet 1 : [0, 2]\n",
            "Successeurs du sommet 2 : [0]\n"
          ]
        }
      ],
      "source": [
        "# test de la fonction successeurs\n",
        "print(\"Successeurs du sommet 0 :\", successeurs(graphe1,0))\n",
        "print(\"Successeurs du sommet 1 :\", successeurs(graphe1,1))\n",
        "print(\"Successeurs du sommet 2 :\", successeurs(graphe1,2))"
      ]
    },
    {
      "cell_type": "markdown",
      "id": "a52719f5",
      "metadata": {
        "id": "a52719f5"
      },
      "source": [
        "#### `predecesseurs(g,s)` : fonction qui retourne un tableau contenant les noms des sommets prédécesseurs du sommet `s`, dans le graphe `g`"
      ]
    },
    {
      "cell_type": "code",
      "execution_count": 127,
      "id": "66e231e6",
      "metadata": {
        "id": "66e231e6"
      },
      "outputs": [],
      "source": [
        "def predecesseurs(g,s):\n",
        "    predecesseurs = []\n",
        "    for i in range(len(g)):\n",
        "      if i != s and g[i][s] == 1:\n",
        "        predecesseurs.append(i)\n",
        "    return predecesseurs"
      ]
    },
    {
      "cell_type": "code",
      "execution_count": 128,
      "id": "544213e9",
      "metadata": {
        "colab": {
          "base_uri": "https://localhost:8080/"
        },
        "id": "544213e9",
        "outputId": "0f5419cc-6f68-4866-f770-5a9d0008151d"
      },
      "outputs": [
        {
          "output_type": "stream",
          "name": "stdout",
          "text": [
            "Prédécesseurs du sommet 0 : [1, 2]\n",
            "Prédécesseurs du sommet 1 : [0]\n",
            "Prédécesseurs du sommet 2 : [0, 1]\n"
          ]
        }
      ],
      "source": [
        "# test de la fonction predecesseurs\n",
        "print(\"Prédécesseurs du sommet 0 :\", predecesseurs(graphe1,0))\n",
        "print(\"Prédécesseurs du sommet 1 :\", predecesseurs(graphe1,1))\n",
        "print(\"Prédécesseurs du sommet 2 :\", predecesseurs(graphe1,2))"
      ]
    },
    {
      "cell_type": "markdown",
      "id": "eea57d11",
      "metadata": {
        "id": "eea57d11"
      },
      "source": [
        "#### `graphe_reciproque(g)` : fonction qui retourne la matrice d'adjacence correspondant au graphe réciproque du graphe `g`"
      ]
    },
    {
      "cell_type": "code",
      "execution_count": 165,
      "id": "13c555be",
      "metadata": {
        "id": "13c555be"
      },
      "outputs": [],
      "source": [
        "def graphe_reciproque(g):\n",
        "    Graphe_vide = graphe_vide(nb_sommets(g))\n",
        "    for i in range(len(g)):\n",
        "        for j in range(len(g)):\n",
        "            if g[i][j] == 1:\n",
        "                Graphe_vide[j][i] = 1 #le but est de pouvoir inverser l'ordre des flèches\n",
        "            elif g[i][j] == 0:\n",
        "              Graphe_vide[j][i] = 0\n",
        "            else : \n",
        "              continue\n",
        "    return Graphe_vide\n",
        "          "
      ]
    },
    {
      "cell_type": "code",
      "execution_count": 166,
      "id": "a87b419a",
      "metadata": {
        "colab": {
          "base_uri": "https://localhost:8080/",
          "height": 307
        },
        "id": "a87b419a",
        "outputId": "9c970f1d-9159-460f-c0ca-69c2cc2d9b73"
      },
      "outputs": [
        {
          "output_type": "stream",
          "name": "stdout",
          "text": [
            "[[0, 1, 1], [1, 0, 1], [1, 0, 0]]\n",
            "[[0, 1, 1], [1, 0, 0], [1, 1, 0]]\n"
          ]
        },
        {
          "output_type": "execute_result",
          "data": {
            "image/svg+xml": "<?xml version=\"1.0\" encoding=\"UTF-8\" standalone=\"no\"?>\n<!DOCTYPE svg PUBLIC \"-//W3C//DTD SVG 1.1//EN\"\n \"http://www.w3.org/Graphics/SVG/1.1/DTD/svg11.dtd\">\n<!-- Generated by graphviz version 2.43.0 (0)\n -->\n<!-- Title: %3 Pages: 1 -->\n<svg width=\"126pt\" height=\"188pt\"\n viewBox=\"0.00 0.00 126.00 188.00\" xmlns=\"http://www.w3.org/2000/svg\" xmlns:xlink=\"http://www.w3.org/1999/xlink\">\n<g id=\"graph0\" class=\"graph\" transform=\"scale(1 1) rotate(0) translate(4 184)\">\n<title>%3</title>\n<polygon fill=\"white\" stroke=\"transparent\" points=\"-4,4 -4,-184 122,-184 122,4 -4,4\"/>\n<!-- 0 -->\n<g id=\"node1\" class=\"node\">\n<title>0</title>\n<ellipse fill=\"none\" stroke=\"black\" cx=\"59\" cy=\"-162\" rx=\"27\" ry=\"18\"/>\n<text text-anchor=\"middle\" x=\"59\" y=\"-158.3\" font-family=\"Times,serif\" font-size=\"14.00\">0</text>\n</g>\n<!-- 1 -->\n<g id=\"node2\" class=\"node\">\n<title>1</title>\n<ellipse fill=\"none\" stroke=\"black\" cx=\"27\" cy=\"-18\" rx=\"27\" ry=\"18\"/>\n<text text-anchor=\"middle\" x=\"27\" y=\"-14.3\" font-family=\"Times,serif\" font-size=\"14.00\">1</text>\n</g>\n<!-- 0&#45;&gt;1 -->\n<g id=\"edge1\" class=\"edge\">\n<title>0&#45;&gt;1</title>\n<path fill=\"none\" stroke=\"black\" d=\"M50.84,-144.71C42.78,-120.7 32.28,-75.53 27.71,-46.37\"/>\n<polygon fill=\"black\" stroke=\"black\" points=\"31.17,-45.84 26.31,-36.43 24.24,-46.82 31.17,-45.84\"/>\n</g>\n<!-- 2 -->\n<g id=\"node3\" class=\"node\">\n<title>2</title>\n<ellipse fill=\"none\" stroke=\"black\" cx=\"91\" cy=\"-90\" rx=\"27\" ry=\"18\"/>\n<text text-anchor=\"middle\" x=\"91\" y=\"-86.3\" font-family=\"Times,serif\" font-size=\"14.00\">2</text>\n</g>\n<!-- 0&#45;&gt;2 -->\n<g id=\"edge2\" class=\"edge\">\n<title>0&#45;&gt;2</title>\n<path fill=\"none\" stroke=\"black\" d=\"M60.99,-143.7C64.05,-135.07 68.7,-124.5 73.53,-115.1\"/>\n<polygon fill=\"black\" stroke=\"black\" points=\"76.67,-116.66 78.37,-106.2 70.52,-113.32 76.67,-116.66\"/>\n</g>\n<!-- 1&#45;&gt;0 -->\n<g id=\"edge3\" class=\"edge\">\n<title>1&#45;&gt;0</title>\n<path fill=\"none\" stroke=\"black\" d=\"M35.17,-35.31C43.25,-59.41 53.8,-104.81 58.34,-133.94\"/>\n<polygon fill=\"black\" stroke=\"black\" points=\"54.88,-134.45 59.72,-143.87 61.81,-133.48 54.88,-134.45\"/>\n</g>\n<!-- 2&#45;&gt;0 -->\n<g id=\"edge4\" class=\"edge\">\n<title>2&#45;&gt;0</title>\n<path fill=\"none\" stroke=\"black\" d=\"M89.07,-108.13C86.02,-116.77 81.34,-127.4 76.49,-136.86\"/>\n<polygon fill=\"black\" stroke=\"black\" points=\"73.32,-135.35 71.62,-145.81 79.47,-138.7 73.32,-135.35\"/>\n</g>\n<!-- 2&#45;&gt;1 -->\n<g id=\"edge5\" class=\"edge\">\n<title>2&#45;&gt;1</title>\n<path fill=\"none\" stroke=\"black\" d=\"M77.43,-74.15C68.69,-64.6 57.17,-51.99 47.34,-41.25\"/>\n<polygon fill=\"black\" stroke=\"black\" points=\"49.88,-38.84 40.55,-33.82 44.72,-43.57 49.88,-38.84\"/>\n</g>\n</g>\n</svg>\n",
            "text/plain": [
              "<graphviz.graphs.Digraph at 0x7f954c0c18d0>"
            ]
          },
          "metadata": {},
          "execution_count": 166
        }
      ],
      "source": [
        "# test de la fonction graphe_reciproque\n",
        "print(graphe1)\n",
        "graphe1_rec = graphe_reciproque(graphe1)\n",
        "print(graphe1_rec)\n",
        "gdot1_rec = creation_graphe_graphviz(graphe1_rec)\n",
        "gdot1_rec"
      ]
    },
    {
      "cell_type": "markdown",
      "id": "25ac02fa",
      "metadata": {
        "id": "25ac02fa"
      },
      "source": [
        "#### `graphe_complementaire(g)` : fonction qui retourne la matrice d'adjacence correspondant au graphe complémentaire du graphe `g`"
      ]
    },
    {
      "cell_type": "code",
      "execution_count": 193,
      "id": "a7f59197",
      "metadata": {
        "id": "a7f59197"
      },
      "outputs": [],
      "source": [
        "def graphe_complementaire(g): # A REVOIR\n",
        "    Graphe_vide = graphe_vide(nb_sommets(g))\n",
        "    for i in range(len(g)):\n",
        "        for j in range(len(g)):\n",
        "            if g[i][j] == 1:\n",
        "                Graphe_vide[j][i] = 0 \n",
        "            elif g[i][j] == 0:\n",
        "              Graphe_vide[j][i] = 1\n",
        "            else : \n",
        "              continue\n",
        "    return Graphe_vide"
      ]
    },
    {
      "cell_type": "code",
      "execution_count": 194,
      "id": "66ff67c2",
      "metadata": {
        "colab": {
          "base_uri": "https://localhost:8080/",
          "height": 211
        },
        "id": "66ff67c2",
        "outputId": "2cb40870-bfd4-468b-b89b-8cde1af8618c"
      },
      "outputs": [
        {
          "output_type": "stream",
          "name": "stdout",
          "text": [
            "[[0, 1, 1], [1, 0, 1], [1, 0, 0]]\n",
            "[[1, 0, 0], [0, 1, 1], [0, 0, 1]]\n"
          ]
        },
        {
          "output_type": "execute_result",
          "data": {
            "image/svg+xml": "<?xml version=\"1.0\" encoding=\"UTF-8\" standalone=\"no\"?>\n<!DOCTYPE svg PUBLIC \"-//W3C//DTD SVG 1.1//EN\"\n \"http://www.w3.org/Graphics/SVG/1.1/DTD/svg11.dtd\">\n<!-- Generated by graphviz version 2.43.0 (0)\n -->\n<!-- Title: %3 Pages: 1 -->\n<svg width=\"170pt\" height=\"116pt\"\n viewBox=\"0.00 0.00 170.00 116.00\" xmlns=\"http://www.w3.org/2000/svg\" xmlns:xlink=\"http://www.w3.org/1999/xlink\">\n<g id=\"graph0\" class=\"graph\" transform=\"scale(1 1) rotate(0) translate(4 112)\">\n<title>%3</title>\n<polygon fill=\"white\" stroke=\"transparent\" points=\"-4,4 -4,-112 166,-112 166,4 -4,4\"/>\n<!-- 0 -->\n<g id=\"node1\" class=\"node\">\n<title>0</title>\n<ellipse fill=\"none\" stroke=\"black\" cx=\"27\" cy=\"-90\" rx=\"27\" ry=\"18\"/>\n<text text-anchor=\"middle\" x=\"27\" y=\"-86.3\" font-family=\"Times,serif\" font-size=\"14.00\">0</text>\n</g>\n<!-- 0&#45;&gt;0 -->\n<g id=\"edge1\" class=\"edge\">\n<title>0&#45;&gt;0</title>\n<path fill=\"none\" stroke=\"black\" d=\"M46.9,-102.43C59.69,-105.68 72,-101.53 72,-90 72,-81.62 65.5,-77.14 57.04,-76.56\"/>\n<polygon fill=\"black\" stroke=\"black\" points=\"56.5,-73.1 46.9,-77.57 57.19,-80.07 56.5,-73.1\"/>\n</g>\n<!-- 1 -->\n<g id=\"node2\" class=\"node\">\n<title>1</title>\n<ellipse fill=\"none\" stroke=\"black\" cx=\"117\" cy=\"-90\" rx=\"27\" ry=\"18\"/>\n<text text-anchor=\"middle\" x=\"117\" y=\"-86.3\" font-family=\"Times,serif\" font-size=\"14.00\">1</text>\n</g>\n<!-- 1&#45;&gt;1 -->\n<g id=\"edge2\" class=\"edge\">\n<title>1&#45;&gt;1</title>\n<path fill=\"none\" stroke=\"black\" d=\"M136.9,-102.43C149.69,-105.68 162,-101.53 162,-90 162,-81.62 155.5,-77.14 147.04,-76.56\"/>\n<polygon fill=\"black\" stroke=\"black\" points=\"146.5,-73.1 136.9,-77.57 147.19,-80.07 146.5,-73.1\"/>\n</g>\n<!-- 2 -->\n<g id=\"node3\" class=\"node\">\n<title>2</title>\n<ellipse fill=\"none\" stroke=\"black\" cx=\"117\" cy=\"-18\" rx=\"27\" ry=\"18\"/>\n<text text-anchor=\"middle\" x=\"117\" y=\"-14.3\" font-family=\"Times,serif\" font-size=\"14.00\">2</text>\n</g>\n<!-- 1&#45;&gt;2 -->\n<g id=\"edge3\" class=\"edge\">\n<title>1&#45;&gt;2</title>\n<path fill=\"none\" stroke=\"black\" d=\"M117,-71.7C117,-63.98 117,-54.71 117,-46.11\"/>\n<polygon fill=\"black\" stroke=\"black\" points=\"120.5,-46.1 117,-36.1 113.5,-46.1 120.5,-46.1\"/>\n</g>\n<!-- 2&#45;&gt;2 -->\n<g id=\"edge4\" class=\"edge\">\n<title>2&#45;&gt;2</title>\n<path fill=\"none\" stroke=\"black\" d=\"M136.9,-30.43C149.69,-33.68 162,-29.53 162,-18 162,-9.62 155.5,-5.14 147.04,-4.56\"/>\n<polygon fill=\"black\" stroke=\"black\" points=\"146.5,-1.1 136.9,-5.57 147.19,-8.07 146.5,-1.1\"/>\n</g>\n</g>\n</svg>\n",
            "text/plain": [
              "<graphviz.graphs.Digraph at 0x7f954c0c01f0>"
            ]
          },
          "metadata": {},
          "execution_count": 194
        }
      ],
      "source": [
        "# test de la fonction graphe_complementaire\n",
        "print(graphe1)\n",
        "\n",
        "graphe1_comp = graphe_complementaire(graphe1)\n",
        "print(graphe1_comp)\n",
        "gdot1_comp = creation_graphe_graphviz(graphe1_comp)\n",
        "\n",
        "gdot1_comp"
      ]
    },
    {
      "cell_type": "markdown",
      "id": "72157bcd",
      "metadata": {
        "id": "72157bcd"
      },
      "source": [
        "#### `graphe_symetrique(g)` : fonction qui retourne la matrice d'adjacence correspondant au graphe symétrique du graphe `g`"
      ]
    },
    {
      "cell_type": "code",
      "execution_count": 201,
      "id": "4cfe5bb7",
      "metadata": {
        "id": "4cfe5bb7"
      },
      "outputs": [],
      "source": [
        "def graphe_symetrique(g):\n",
        "    Graphe_vide = graphe_vide(nb_sommets(g))\n",
        "    for i in range(len(g)):\n",
        "        for j in range(len(g)):\n",
        "            if i != j  and g[i][j] == 0:\n",
        "              Graphe_vide[j][i] = 1\n",
        "            elif i == j and g[i][j] == 0:\n",
        "                  Graphe_vide[j][i] = 0\n",
        "            else : \n",
        "              Graphe_vide[j][i] = 1\n",
        "    return Graphe_vide"
      ]
    },
    {
      "cell_type": "code",
      "execution_count": 202,
      "id": "14fe93e9",
      "metadata": {
        "colab": {
          "base_uri": "https://localhost:8080/",
          "height": 272
        },
        "id": "14fe93e9",
        "outputId": "53f2db48-fd41-4e9d-938b-bd9e3c2d41c5"
      },
      "outputs": [
        {
          "output_type": "execute_result",
          "data": {
            "image/svg+xml": "<?xml version=\"1.0\" encoding=\"UTF-8\" standalone=\"no\"?>\n<!DOCTYPE svg PUBLIC \"-//W3C//DTD SVG 1.1//EN\"\n \"http://www.w3.org/Graphics/SVG/1.1/DTD/svg11.dtd\">\n<!-- Generated by graphviz version 2.43.0 (0)\n -->\n<!-- Title: %3 Pages: 1 -->\n<svg width=\"94pt\" height=\"188pt\"\n viewBox=\"0.00 0.00 94.00 188.00\" xmlns=\"http://www.w3.org/2000/svg\" xmlns:xlink=\"http://www.w3.org/1999/xlink\">\n<g id=\"graph0\" class=\"graph\" transform=\"scale(1 1) rotate(0) translate(4 184)\">\n<title>%3</title>\n<polygon fill=\"white\" stroke=\"transparent\" points=\"-4,4 -4,-184 90,-184 90,4 -4,4\"/>\n<!-- 0 -->\n<g id=\"node1\" class=\"node\">\n<title>0</title>\n<ellipse fill=\"none\" stroke=\"black\" cx=\"59\" cy=\"-162\" rx=\"27\" ry=\"18\"/>\n<text text-anchor=\"middle\" x=\"59\" y=\"-158.3\" font-family=\"Times,serif\" font-size=\"14.00\">0</text>\n</g>\n<!-- 1 -->\n<g id=\"node2\" class=\"node\">\n<title>1</title>\n<ellipse fill=\"none\" stroke=\"black\" cx=\"27\" cy=\"-90\" rx=\"27\" ry=\"18\"/>\n<text text-anchor=\"middle\" x=\"27\" y=\"-86.3\" font-family=\"Times,serif\" font-size=\"14.00\">1</text>\n</g>\n<!-- 0&#45;&gt;1 -->\n<g id=\"edge1\" class=\"edge\">\n<title>0&#45;&gt;1</title>\n<path fill=\"none\" stroke=\"black\" d=\"M46.38,-145.81C41.61,-137.57 36.55,-127.15 32.59,-117.62\"/>\n<polygon fill=\"black\" stroke=\"black\" points=\"35.8,-116.2 28.93,-108.13 29.27,-118.72 35.8,-116.2\"/>\n</g>\n<!-- 2 -->\n<g id=\"node3\" class=\"node\">\n<title>2</title>\n<ellipse fill=\"none\" stroke=\"black\" cx=\"59\" cy=\"-18\" rx=\"27\" ry=\"18\"/>\n<text text-anchor=\"middle\" x=\"59\" y=\"-14.3\" font-family=\"Times,serif\" font-size=\"14.00\">2</text>\n</g>\n<!-- 0&#45;&gt;2 -->\n<g id=\"edge2\" class=\"edge\">\n<title>0&#45;&gt;2</title>\n<path fill=\"none\" stroke=\"black\" d=\"M52.82,-144.31C52.49,-133.88 53.54,-120.17 54,-108 54.6,-92.01 54.6,-87.99 54,-72 53.68,-63.44 53.06,-54.12 52.84,-45.72\"/>\n<polygon fill=\"black\" stroke=\"black\" points=\"56.34,-45.68 52.82,-35.69 49.34,-45.7 56.34,-45.68\"/>\n</g>\n<!-- 1&#45;&gt;0 -->\n<g id=\"edge3\" class=\"edge\">\n<title>1&#45;&gt;0</title>\n<path fill=\"none\" stroke=\"black\" d=\"M39.63,-106.2C44.37,-114.4 49.4,-124.75 53.35,-134.24\"/>\n<polygon fill=\"black\" stroke=\"black\" points=\"50.13,-135.63 57.01,-143.7 56.66,-133.11 50.13,-135.63\"/>\n</g>\n<!-- 1&#45;&gt;2 -->\n<g id=\"edge4\" class=\"edge\">\n<title>1&#45;&gt;2</title>\n<path fill=\"none\" stroke=\"black\" d=\"M28.99,-71.7C32.05,-63.07 36.7,-52.5 41.53,-43.1\"/>\n<polygon fill=\"black\" stroke=\"black\" points=\"44.67,-44.66 46.37,-34.2 38.52,-41.32 44.67,-44.66\"/>\n</g>\n<!-- 2&#45;&gt;0 -->\n<g id=\"edge5\" class=\"edge\">\n<title>2&#45;&gt;0</title>\n<path fill=\"none\" stroke=\"black\" d=\"M68.25,-35.22C70.46,-45.7 71.53,-59.64 72,-72 72.6,-87.99 72.6,-92.01 72,-108 71.67,-116.69 71.04,-126.16 69.93,-134.66\"/>\n<polygon fill=\"black\" stroke=\"black\" points=\"66.44,-134.34 68.25,-144.78 73.34,-135.49 66.44,-134.34\"/>\n</g>\n<!-- 2&#45;&gt;1 -->\n<g id=\"edge6\" class=\"edge\">\n<title>2&#45;&gt;1</title>\n<path fill=\"none\" stroke=\"black\" d=\"M57.07,-36.13C54.02,-44.77 49.34,-55.4 44.49,-64.86\"/>\n<polygon fill=\"black\" stroke=\"black\" points=\"41.32,-63.35 39.62,-73.81 47.47,-66.7 41.32,-63.35\"/>\n</g>\n</g>\n</svg>\n",
            "text/plain": [
              "<graphviz.graphs.Digraph at 0x7f954c049990>"
            ]
          },
          "metadata": {},
          "execution_count": 202
        }
      ],
      "source": [
        "# test de la fonction graphe_symetrique\n",
        "graphe1_sym = graphe_symetrique(graphe1)\n",
        "#print(graphe1_rec)\n",
        "gdot1_sym = creation_graphe_graphviz(graphe1_sym)\n",
        "gdot1_sym"
      ]
    },
    {
      "cell_type": "markdown",
      "id": "5de33771",
      "metadata": {
        "id": "5de33771"
      },
      "source": [
        "#### `est_chemin(g, ls)` : fonction qui indique si la liste des sommets `ls` correspond à un chemin, dans le graphe `g`"
      ]
    },
    {
      "cell_type": "code",
      "execution_count": 338,
      "id": "6ab6ff4f",
      "metadata": {
        "id": "6ab6ff4f"
      },
      "outputs": [],
      "source": [
        "\n",
        "def est_chemin(g, ls):\n",
        "\n",
        "  if len(ls) == 0:\n",
        "    return False\n",
        "\n",
        "  index = 0\n",
        "  while index != len(ls)-1:\n",
        "    parcours = parcours_successeurs(g, ls[index],ls[index+1])\n",
        "    if parcours == False:\n",
        "      return False\n",
        "    else :\n",
        "      index = index + 1\n",
        "  return True\n",
        "\n",
        "\n",
        "#Cette fonction permet de parcourir les successeurs de sommet afin de voir si l'un des successeurs de sommet est égal à maybe_sucesseurs(l'élement à l'index suivant)\n",
        "def parcours_successeurs(g, sommet, maybe_successeurs) : \n",
        "  tab_successeurs = successeurs(g, sommet)\n",
        "  #print(\"succeseurs de\", sommet, \":\", tab_successeurs)\n",
        "  for element in tab_successeurs:\n",
        "    if element == maybe_successeurs:\n",
        "      return True\n",
        "  return False"
      ]
    },
    {
      "cell_type": "code",
      "execution_count": 327,
      "id": "ea428a7d",
      "metadata": {
        "colab": {
          "base_uri": "https://localhost:8080/"
        },
        "id": "ea428a7d",
        "outputId": "9a6fa27c-4e76-4750-9018-84b564b64e78"
      },
      "outputs": [
        {
          "output_type": "stream",
          "name": "stdout",
          "text": [
            "Chemin [] ? False\n",
            "Chemin [1] ? True\n",
            "Chemin [0, 1] ? True\n",
            "Chemin [0, 1, 2] ? True\n",
            "Chemin [0, 2, 1] ? False\n",
            "Chemin [0, 1, 2, 2] ? False\n",
            "Circuit [0, 1, 2, 0,2, 1] ? False\n"
          ]
        }
      ],
      "source": [
        "# test de la fonction est_chemin\n",
        "print(\"Chemin [] ?\", est_chemin(graphe1,[]))\n",
        "print(\"Chemin [1] ?\", est_chemin(graphe1,[1]))\n",
        "print(\"Chemin [0, 1] ?\", est_chemin(graphe1,[0,1]))\n",
        "print(\"Chemin [0, 1, 2] ?\", est_chemin(graphe1,[0,1,2]))\n",
        "print(\"Chemin [0, 2, 1] ?\", est_chemin(graphe1,[0,2,1]))\n",
        "print(\"Chemin [0, 1, 2, 2] ?\", est_chemin(graphe1,[0,1,2,2]))\n",
        "print(\"Circuit [0, 1, 2, 0,2, 1] ?\", est_chemin(graphe1,[0,1,2,0,2, 1]))"
      ]
    },
    {
      "cell_type": "markdown",
      "id": "b8a75677",
      "metadata": {
        "id": "b8a75677"
      },
      "source": [
        "#### `est_circuit(g, ls)` : fonction qui indique si la liste des sommets `ls` correspond à un circuit, dans le graphe `g`"
      ]
    },
    {
      "cell_type": "code",
      "execution_count": 246,
      "id": "f9b5cf6f",
      "metadata": {
        "id": "f9b5cf6f"
      },
      "outputs": [],
      "source": [
        "def est_circuit(g, ls):\n",
        "    if est_chemin(g, ls) and ls[0] == ls[len(ls)-1]:\n",
        "      return True\n",
        "    return False"
      ]
    },
    {
      "cell_type": "code",
      "execution_count": 247,
      "id": "eba410fc",
      "metadata": {
        "colab": {
          "base_uri": "https://localhost:8080/"
        },
        "id": "eba410fc",
        "outputId": "06d47ded-dd5a-486e-8ded-4d285ea58123"
      },
      "outputs": [
        {
          "output_type": "stream",
          "name": "stdout",
          "text": [
            "Circuit [] ? False\n",
            "Circuit [1] ? True\n",
            "Circuit [0, 1] ? False\n",
            "Circuit [0, 1, 2, 0] ? True\n",
            "Circuit [0, 2, 1, 0] ? False\n",
            "Circuit [0, 1, 2, 2] ? False\n"
          ]
        }
      ],
      "source": [
        "# test de la fonction est_circuit\n",
        "print(\"Circuit [] ?\", est_circuit(graphe1,[]))\n",
        "print(\"Circuit [1] ?\", est_circuit(graphe1,[1]))\n",
        "print(\"Circuit [0, 1] ?\", est_circuit(graphe1,[0,1]))\n",
        "print(\"Circuit [0, 1, 2, 0] ?\", est_circuit(graphe1,[0,1,2,0]))\n",
        "print(\"Circuit [0, 2, 1, 0] ?\", est_circuit(graphe1,[0,2,1,0]))\n",
        "print(\"Circuit [0, 1, 2, 2] ?\", est_circuit(graphe1,[0,1,2,2]))"
      ]
    },
    {
      "cell_type": "markdown",
      "id": "da7f9624",
      "metadata": {
        "id": "da7f9624"
      },
      "source": [
        "#### `est_chemin_elementaire(g, ls)` : fonction qui indique si la liste des sommets `ls` correspond à un chemin élémentaire, dans le graphe `g`"
      ]
    },
    {
      "cell_type": "code",
      "execution_count": 346,
      "id": "3a1fda9e",
      "metadata": {
        "id": "3a1fda9e"
      },
      "outputs": [],
      "source": [
        "def est_chemin_elementaire(g, ls):\n",
        "    if not est_chemin(g, ls):\n",
        "      return False\n",
        "    \n",
        "    list_trie = sorted(ls)\n",
        "    for i in range(len(list_trie)-1):\n",
        "      if list_trie[i] == list_trie[i+1]:\n",
        "        return False\n",
        "    return True"
      ]
    },
    {
      "cell_type": "code",
      "execution_count": 332,
      "id": "f0ef2c16",
      "metadata": {
        "colab": {
          "base_uri": "https://localhost:8080/"
        },
        "id": "f0ef2c16",
        "outputId": "fdf7a9d8-d0a5-48be-9753-5ec997f45920"
      },
      "outputs": [
        {
          "output_type": "stream",
          "name": "stdout",
          "text": [
            "Circuit [] ? False\n",
            "[1]\n",
            "Circuit [1] ? True\n",
            "[0, 1]\n",
            "Circuit [0, 1] ? True\n",
            "[0, 0, 1, 2]\n",
            "llll\n",
            "Circuit [0, 1, 2, 0] ? False\n",
            "Circuit [0, 2, 1, 0] ? False\n",
            "Circuit [0, 1, 2, 2] ? False\n"
          ]
        }
      ],
      "source": [
        "print(\"Circuit [] ?\", est_chemin_elementaire(graphe1,[]))\n",
        "print(\"Circuit [1] ?\", est_chemin_elementaire(graphe1,[1]))\n",
        "print(\"Circuit [0, 1] ?\", est_chemin_elementaire(graphe1,[0,1]))\n",
        "print(\"Circuit [0, 1, 2, 0] ?\", est_chemin_elementaire(graphe1,[0,1,2,0]))\n",
        "print(\"Circuit [0, 2, 1, 0] ?\", est_chemin_elementaire(graphe1,[0,2,1,0]))\n",
        "print(\"Circuit [0, 1, 2, 2] ?\", est_chemin_elementaire(graphe1,[0,1,2,2]))"
      ]
    },
    {
      "cell_type": "markdown",
      "id": "7fb9d789",
      "metadata": {
        "id": "7fb9d789"
      },
      "source": [
        "#### `est_chemin_simple(g, ls)` : fonction qui indique si la liste des sommets `ls` correspond à un chemin simple, dans le graphe `g`"
      ]
    },
    {
      "cell_type": "code",
      "execution_count": 349,
      "id": "2ac64910",
      "metadata": {
        "id": "2ac64910"
      },
      "outputs": [],
      "source": [
        "def est_chemin_simple(g, ls):\n",
        "       return (est_chemin_elementaire(g, ls)) \n",
        "     \n",
        "\n"
      ]
    },
    {
      "cell_type": "code",
      "execution_count": 350,
      "id": "dc31b40b",
      "metadata": {
        "colab": {
          "base_uri": "https://localhost:8080/"
        },
        "id": "dc31b40b",
        "outputId": "ca782196-408e-48eb-96ba-98b1227f0c34"
      },
      "outputs": [
        {
          "output_type": "stream",
          "name": "stdout",
          "text": [
            "Circuit [] ? False\n",
            "Circuit [1] ? True\n",
            "Circuit [0, 1] ? True\n",
            "Circuit [0, 1, 2, 0] ? False\n",
            "Circuit [0, 2, 1, 0] ? False\n",
            "Circuit [0, 1, 2] ? True\n",
            "Circuit [0, 1, 2, 0,2] ? False\n"
          ]
        }
      ],
      "source": [
        "# test de la fonction est_chemin_simple\n",
        "print(\"Circuit [] ?\", est_chemin_simple(graphe1,[]))\n",
        "print(\"Circuit [1] ?\", est_chemin_simple(graphe1,[1]))\n",
        "print(\"Circuit [0, 1] ?\", est_chemin_simple(graphe1,[0,1]))\n",
        "print(\"Circuit [0, 1, 2, 0] ?\", est_chemin_simple(graphe1,[0,1,2,0]))\n",
        "print(\"Circuit [0, 2, 1, 0] ?\", est_chemin_simple(graphe1,[0,2,1,0]))\n",
        "print(\"Circuit [0, 1, 2] ?\", est_chemin_simple(graphe1,[0,1,2]))\n",
        "print(\"Circuit [0, 1, 2, 0,2] ?\", est_chemin_simple(graphe1,[0,1,2,0,2]))"
      ]
    },
    {
      "cell_type": "markdown",
      "id": "36189020",
      "metadata": {
        "id": "36189020"
      },
      "source": [
        "#### `est_circuit_elementaire(g, ls)` : fonction qui indique si la liste des sommets `ls` correspond à un circuit élémentaire, dans le graphe `g`"
      ]
    },
    {
      "cell_type": "code",
      "execution_count": 363,
      "id": "26831f56",
      "metadata": {
        "id": "26831f56"
      },
      "outputs": [],
      "source": [
        "def est_circuit_elementaire(g, ls):\n",
        "      if not est_circuit(g, ls):\n",
        "        return False\n",
        "    \n",
        "      debut = ls[0]\n",
        "      fin = ls[len(ls)-1]\n",
        "      for i in range(1, len(ls)-1):\n",
        "        if ls[i] == debut or ls[i] == fin :\n",
        "          return False\n",
        "      return True"
      ]
    },
    {
      "cell_type": "code",
      "execution_count": 369,
      "id": "74ed2013",
      "metadata": {
        "colab": {
          "base_uri": "https://localhost:8080/"
        },
        "id": "74ed2013",
        "outputId": "833ad56d-2a1c-469c-e07a-0f07e56ed05b"
      },
      "outputs": [
        {
          "output_type": "stream",
          "name": "stdout",
          "text": [
            "Circuit [] ? False\n",
            "Circuit [1] ? True\n",
            "Circuit [0, 1] ? False\n",
            "Circuit [0, 1, 2, 0] ? True\n",
            "Circuit [0, 2, 1, 0] ? False\n",
            "Circuit [0, 1, 2,0,2] ? False\n",
            "Circuit [0, 1, 2] ? False\n"
          ]
        }
      ],
      "source": [
        "print(\"Circuit [] ?\", est_circuit_elementaire(graphe1,[]))\n",
        "print(\"Circuit [1] ?\", est_circuit_elementaire(graphe1,[1]))\n",
        "print(\"Circuit [0, 1] ?\", est_circuit_elementaire(graphe1,[0,1]))\n",
        "print(\"Circuit [0, 1, 2, 0] ?\", est_circuit_elementaire(graphe1,[0,1,2,0]))\n",
        "print(\"Circuit [0, 2, 1, 0] ?\", est_circuit_elementaire(graphe1,[0,2,1,0]))\n",
        "print(\"Circuit [0, 1, 2,0,2] ?\", est_circuit_elementaire(graphe1,[0,1,2,0,2]))\n",
        "print(\"Circuit [0, 1, 2] ?\", est_circuit_elementaire(graphe1,[0,1,2]))"
      ]
    },
    {
      "cell_type": "markdown",
      "id": "714c3aa9",
      "metadata": {
        "id": "714c3aa9"
      },
      "source": [
        "#### `est_circuit_simple(g, ls)` : fonction qui indique si la liste des sommets `ls` correspond à un circuit simple, dans le graphe `g`"
      ]
    },
    {
      "cell_type": "code",
      "execution_count": 365,
      "id": "3a407536",
      "metadata": {
        "id": "3a407536"
      },
      "outputs": [],
      "source": [
        "def est_circuit_simple(g, ls):\n",
        "    return (est_circuit_elementaire(g, ls)) "
      ]
    },
    {
      "cell_type": "code",
      "execution_count": 370,
      "id": "f2f162a2",
      "metadata": {
        "colab": {
          "base_uri": "https://localhost:8080/"
        },
        "id": "f2f162a2",
        "outputId": "b0838d1f-ecda-4006-b33f-016827c54a84"
      },
      "outputs": [
        {
          "output_type": "stream",
          "name": "stdout",
          "text": [
            "Circuit [] ? False\n",
            "Circuit [1] ? True\n",
            "Circuit [0, 1] ? False\n",
            "Circuit [0, 1, 2, 0] ? True\n",
            "Circuit [0, 2, 1, 0] ? False\n",
            "Circuit [0, 1, 2] ? False\n",
            "Circuit [0, 1, 2, 0,2] ? False\n"
          ]
        }
      ],
      "source": [
        "#test de la fonction est_circuit_simple\n",
        "print(\"Circuit [] ?\", est_circuit_simple(graphe1,[]))\n",
        "print(\"Circuit [1] ?\", est_circuit_simple(graphe1,[1]))\n",
        "print(\"Circuit [0, 1] ?\", est_circuit_simple(graphe1,[0,1]))\n",
        "print(\"Circuit [0, 1, 2, 0] ?\", est_circuit_simple(graphe1,[0,1,2,0]))\n",
        "print(\"Circuit [0, 2, 1, 0] ?\", est_circuit_simple(graphe1,[0,2,1,0]))\n",
        "print(\"Circuit [0, 1, 2] ?\", est_circuit_simple(graphe1,[0,1,2]))\n",
        "print(\"Circuit [0, 1, 2, 0,2] ?\", est_circuit_simple(graphe1,[0,1,2,0,2]))"
      ]
    },
    {
      "cell_type": "markdown",
      "id": "f582b0e7",
      "metadata": {
        "id": "f582b0e7"
      },
      "source": [
        "#### `est_source(g, s)` : fonction qui retourne vrai si le sommet `s` est une source, dans le graphe `g`"
      ]
    },
    {
      "cell_type": "code",
      "execution_count": 271,
      "id": "f0fe3952",
      "metadata": {
        "id": "f0fe3952"
      },
      "outputs": [],
      "source": [
        "def est_source(g, s):\n",
        "    return (len(predecesseurs(g,s)) == 0) #Si la longueur de la liste de precesseur = 0 alors on renvoit true (simplification de l'écriture)\n",
        "      "
      ]
    },
    {
      "cell_type": "code",
      "execution_count": 272,
      "id": "fe6d0cb8",
      "metadata": {
        "colab": {
          "base_uri": "https://localhost:8080/"
        },
        "id": "fe6d0cb8",
        "outputId": "de9e5d58-4ac9-4197-e0bc-38782f0d0cda"
      },
      "outputs": [
        {
          "output_type": "stream",
          "name": "stdout",
          "text": [
            "Est_Source sommet 0 ? : False\n",
            "Est_Source sommet 1 ? : False\n",
            "Est_Source sommet 2 ?: False\n"
          ]
        }
      ],
      "source": [
        "# test de la fonction est_source\n",
        "print(\"Est_Source sommet 0 ? :\", est_source(graphe1,0))\n",
        "print(\"Est_Source sommet 1 ? :\", est_source(graphe1,1))\n",
        "print(\"Est_Source sommet 2 ?:\", est_source(graphe1,2))"
      ]
    },
    {
      "cell_type": "markdown",
      "id": "35952f5d",
      "metadata": {
        "id": "35952f5d"
      },
      "source": [
        "#### `est_puits(g, s)` : fonction qui retourne vrai si le sommet `s` est un puits, dans le graphe `g`"
      ]
    },
    {
      "cell_type": "code",
      "execution_count": 273,
      "id": "14baee12",
      "metadata": {
        "id": "14baee12"
      },
      "outputs": [],
      "source": [
        "def est_puits(g, s):\n",
        "     return (len(successeurs(g,s)) == 0)"
      ]
    },
    {
      "cell_type": "code",
      "execution_count": 274,
      "id": "44f5a06b",
      "metadata": {
        "colab": {
          "base_uri": "https://localhost:8080/"
        },
        "id": "44f5a06b",
        "outputId": "c368a47f-b316-4330-f596-8b7678b0e285"
      },
      "outputs": [
        {
          "output_type": "stream",
          "name": "stdout",
          "text": [
            "Est_Puit sommet 0 ? : False\n",
            "Est_Puit sommet 1 ? : False\n",
            "Est_Puit sommet 2 ?: False\n"
          ]
        }
      ],
      "source": [
        "# test de la fonction est_puits\n",
        "print(\"Est_Puit sommet 0 ? :\", est_puits(graphe1,0))\n",
        "print(\"Est_Puit sommet 1 ? :\", est_puits(graphe1,1))\n",
        "print(\"Est_Puit sommet 2 ?:\", est_puits(graphe1,2))"
      ]
    },
    {
      "cell_type": "markdown",
      "id": "2dea56ab",
      "metadata": {
        "id": "2dea56ab"
      },
      "source": [
        "## Implémentation des fonctions bonus (cellules de code à compléter)"
      ]
    },
    {
      "cell_type": "markdown",
      "id": "69610f06",
      "metadata": {
        "id": "69610f06"
      },
      "source": [
        "#### `representation_par_liste_successeurs(g)` : fonction qui retourne la représentation du graphe par liste des successeurs (sous forme de liste de listes)"
      ]
    },
    {
      "cell_type": "code",
      "execution_count": null,
      "id": "dd20ebeb",
      "metadata": {
        "id": "dd20ebeb"
      },
      "outputs": [],
      "source": [
        "def representation_par_liste_successeurs(g):\n",
        "    raise NotImplementedError"
      ]
    },
    {
      "cell_type": "code",
      "execution_count": null,
      "id": "00c4d17d",
      "metadata": {
        "id": "00c4d17d"
      },
      "outputs": [],
      "source": [
        "# test de la fonction representation_par_liste_successeurs"
      ]
    },
    {
      "cell_type": "markdown",
      "id": "95dbeead",
      "metadata": {
        "id": "95dbeead"
      },
      "source": [
        "#### `est_sous_graphe(g1, g2)` : fonction qui retourne vrai si le graphe `g2` est un sous-graphe du graphe `g1` (`g1` et `g2` doivent avoir le même nombre de sommets)"
      ]
    },
    {
      "cell_type": "code",
      "execution_count": null,
      "id": "a7720bbe",
      "metadata": {
        "id": "a7720bbe"
      },
      "outputs": [],
      "source": [
        "def est_sous_graphe(g1, g2):\n",
        "    raise NotImplementedError"
      ]
    },
    {
      "cell_type": "code",
      "execution_count": null,
      "id": "3fa40ad7",
      "metadata": {
        "id": "3fa40ad7"
      },
      "outputs": [],
      "source": [
        "# test de la fonction est_sous_graphe"
      ]
    },
    {
      "cell_type": "markdown",
      "id": "f234f291",
      "metadata": {
        "id": "f234f291"
      },
      "source": [
        "#### `sous_graphe(g, ls)` : fonction qui retourne le sous-graphe induit par la liste de sommets donnée (le sous-graphe induit n'aura plus la même numérotation des sommets, s'il en a moins que `g`)"
      ]
    },
    {
      "cell_type": "code",
      "execution_count": null,
      "id": "314e7bbb",
      "metadata": {
        "id": "314e7bbb"
      },
      "outputs": [],
      "source": [
        "def sous_graphe(g, ls):\n",
        "    raise NotImplementedError"
      ]
    },
    {
      "cell_type": "code",
      "execution_count": null,
      "id": "f097bd76",
      "metadata": {
        "id": "f097bd76"
      },
      "outputs": [],
      "source": [
        "# test de la fonction sous_graphe"
      ]
    }
  ],
  "metadata": {
    "kernelspec": {
      "display_name": "Python 3 (ipykernel)",
      "language": "python",
      "name": "python3"
    },
    "language_info": {
      "codemirror_mode": {
        "name": "ipython",
        "version": 3
      },
      "file_extension": ".py",
      "mimetype": "text/x-python",
      "name": "python",
      "nbconvert_exporter": "python",
      "pygments_lexer": "ipython3",
      "version": "3.10.11"
    },
    "colab": {
      "provenance": [],
      "include_colab_link": true
    }
  },
  "nbformat": 4,
  "nbformat_minor": 5
}