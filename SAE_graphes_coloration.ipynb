{
  "cells": [
    {
      "cell_type": "markdown",
      "metadata": {
        "id": "view-in-github",
        "colab_type": "text"
      },
      "source": [
        "<a href=\"https://colab.research.google.com/github/Fisail/Fisail/blob/main/SAE_graphes_coloration.ipynb\" target=\"_parent\"><img src=\"https://colab.research.google.com/assets/colab-badge.svg\" alt=\"Open In Colab\"/></a>"
      ]
    },
    {
      "cell_type": "markdown",
      "metadata": {
        "id": "ig4qj29e6Mii"
      },
      "source": [
        "# SAE sur les graphes : définition de plannings à l'aide de la coloration de sommets ou d'arêtes\n",
        "\n",
        "Dans cette SAE sur les graphes, l'objectif est de pouvoir faire de la coloration de graphe, en utilisant l'algorithme de Welsh et Powell. La coloration de graphes sera utilisée pour établir des plannings, pour différentes applications.\n",
        "\n",
        "La représentation choisie pour les graphes non-orientés est une matrice d'adjacence, qui sera représentée par un tableau de tableau (les noms des sommets sont des entiers et seront numérotés en commençant à 0). Nous considérons que le nombre de sommets du graphe ne pourra pas être modifié une fois le graphe construit. Un tableau contenant le nom associé à chaque sommet sera également créé.\n"
      ]
    },
    {
      "cell_type": "markdown",
      "metadata": {
        "id": "VTnueLTqolv4"
      },
      "source": [
        "## Utilisation de graphviz pour visualiser les graphes"
      ]
    },
    {
      "cell_type": "markdown",
      "metadata": {
        "id": "rb_UrAwNolv4"
      },
      "source": [
        "#### Installation de graphviz pour pouvoir visualiser les graphes"
      ]
    },
    {
      "cell_type": "code",
      "execution_count": null,
      "metadata": {
        "id": "dJOAb8jn6bx9",
        "outputId": "585218ff-67c1-4736-9b70-13b74543c737",
        "colab": {
          "base_uri": "https://localhost:8080/"
        }
      },
      "outputs": [
        {
          "output_type": "stream",
          "name": "stdout",
          "text": [
            "Looking in indexes: https://pypi.org/simple, https://us-python.pkg.dev/colab-wheels/public/simple/\n",
            "Requirement already satisfied: graphviz in /usr/local/lib/python3.10/dist-packages (0.20.1)\n"
          ]
        },
        {
          "output_type": "execute_result",
          "data": {
            "text/plain": [
              "('0.20.1', (2, 43, 0))"
            ]
          },
          "metadata": {},
          "execution_count": 81
        }
      ],
      "source": [
        "%pip install graphviz\n",
        "import graphviz\n",
        "graphviz.__version__, graphviz.version()"
      ]
    },
    {
      "cell_type": "markdown",
      "metadata": {
        "id": "Nvb-erzR_nnA"
      },
      "source": [
        "#### Création d'une fonction de conversion d'un graphe, défini par une matrice d'adjacence, vers le format graphviz"
      ]
    },
    {
      "cell_type": "code",
      "execution_count": null,
      "metadata": {
        "id": "JVyp5Hg4_udn"
      },
      "outputs": [],
      "source": [
        "def creation_graphe_graphviz(g):\n",
        "    # création d'un graphe non orienté\n",
        "    dot = graphviz.Graph()\n",
        "    \n",
        "    # ajout des sommets\n",
        "    for i in range(len(g)):\n",
        "        dot.node(str(i))\n",
        "    \n",
        "    # ajout des arêtes\n",
        "    for i in range(len(g)):\n",
        "        for j in range(i):\n",
        "            if g[i][j] == 1:\n",
        "                dot.edge(str(i), str(j))\n",
        "    \n",
        "    return dot"
      ]
    },
    {
      "cell_type": "markdown",
      "metadata": {
        "id": "65aJdkE1olv6"
      },
      "source": [
        "## Graphes non orientés"
      ]
    },
    {
      "cell_type": "markdown",
      "metadata": {
        "id": "sQeb46pyolv6"
      },
      "source": [
        "### Définition des fonctions utiles"
      ]
    },
    {
      "cell_type": "markdown",
      "metadata": {
        "id": "epY7Wby6olv6"
      },
      "source": [
        "#### Fonction qui construit un graphe vide (sans aretes), avec le nombre de sommets donné, et qui retourne la matrice d'adjacence correspondante"
      ]
    },
    {
      "cell_type": "code",
      "execution_count": null,
      "metadata": {
        "id": "nUR6P9yxolv6"
      },
      "outputs": [],
      "source": [
        "def graphe_vide(n):\n",
        "    g = []\n",
        "    for i in range(n):\n",
        "        l = []\n",
        "        for j in range(n):\n",
        "            l.append(0)\n",
        "        g.append(l)\n",
        "    return g"
      ]
    },
    {
      "cell_type": "markdown",
      "metadata": {
        "id": "uvdAj3esolv6"
      },
      "source": [
        "#### Fonction qui donne le nombre de sommets du graphe"
      ]
    },
    {
      "cell_type": "code",
      "execution_count": null,
      "metadata": {
        "id": "SlyaAtpnolv7"
      },
      "outputs": [],
      "source": [
        "def nb_sommet(graphe):\n",
        "    return len(graphe)"
      ]
    },
    {
      "cell_type": "markdown",
      "metadata": {
        "id": "duq_JZV7olv7"
      },
      "source": [
        "#### Fonction qui retourne vrai si l'arete, dont les numéros de sommets extrémités sont donnés, existe"
      ]
    },
    {
      "cell_type": "code",
      "execution_count": null,
      "metadata": {
        "id": "sPNj-gPZolv7"
      },
      "outputs": [],
      "source": [
        "def est_arete(g, i, j):\n",
        "    return g[i][j] == 1"
      ]
    },
    {
      "cell_type": "markdown",
      "metadata": {
        "id": "8VFlwYJNolv7"
      },
      "source": [
        "#### Fonction qui calcule le nombre d'arêtes du graphe"
      ]
    },
    {
      "cell_type": "code",
      "execution_count": null,
      "metadata": {
        "id": "WLIv5VXColv7"
      },
      "outputs": [],
      "source": [
        "def nb_aretes(graphe):  \n",
        "    count = 0\n",
        "    for i in range(len(graphe)):\n",
        "        for j in range(i+1, len(graphe)):\n",
        "            if est_arete(graphe, i, j):\n",
        "               count += 1\n",
        "\n",
        "    return count"
      ]
    },
    {
      "cell_type": "markdown",
      "metadata": {
        "id": "tWpdWHaAolv7"
      },
      "source": [
        "#### Fonction qui calcule le degré d'un sommet"
      ]
    },
    {
      "cell_type": "code",
      "execution_count": null,
      "metadata": {
        "id": "dUmXaf9Volv8"
      },
      "outputs": [],
      "source": [
        "def degre(g, i):\n",
        "    res = 0\n",
        "    for j in range(len(g[i])):\n",
        "        if est_arete(g, i, j):\n",
        "            res = res + 1  \n",
        "    return res"
      ]
    },
    {
      "cell_type": "markdown",
      "metadata": {
        "id": "6XjRGg7Yolv8"
      },
      "source": [
        "### Quelques tests des fonctions"
      ]
    },
    {
      "cell_type": "markdown",
      "metadata": {
        "id": "Lqq32vXpolv8"
      },
      "source": [
        "#### Définition d'un premier graphe"
      ]
    },
    {
      "cell_type": "code",
      "execution_count": null,
      "metadata": {
        "id": "SasB8VGgolv8",
        "outputId": "d2912bd2-38b7-49ce-904b-51edded3e537",
        "colab": {
          "base_uri": "https://localhost:8080/",
          "height": 272
        }
      },
      "outputs": [
        {
          "output_type": "execute_result",
          "data": {
            "image/svg+xml": "<?xml version=\"1.0\" encoding=\"UTF-8\" standalone=\"no\"?>\n<!DOCTYPE svg PUBLIC \"-//W3C//DTD SVG 1.1//EN\"\n \"http://www.w3.org/Graphics/SVG/1.1/DTD/svg11.dtd\">\n<!-- Generated by graphviz version 2.43.0 (0)\n -->\n<!-- Title: %3 Pages: 1 -->\n<svg width=\"143pt\" height=\"188pt\"\n viewBox=\"0.00 0.00 143.00 188.00\" xmlns=\"http://www.w3.org/2000/svg\" xmlns:xlink=\"http://www.w3.org/1999/xlink\">\n<g id=\"graph0\" class=\"graph\" transform=\"scale(1 1) rotate(0) translate(4 184)\">\n<title>%3</title>\n<polygon fill=\"white\" stroke=\"transparent\" points=\"-4,4 -4,-184 139,-184 139,4 -4,4\"/>\n<!-- 0 -->\n<g id=\"node1\" class=\"node\">\n<title>0</title>\n<ellipse fill=\"none\" stroke=\"black\" cx=\"27\" cy=\"-18\" rx=\"27\" ry=\"18\"/>\n<text text-anchor=\"middle\" x=\"27\" y=\"-14.3\" font-family=\"Times,serif\" font-size=\"14.00\">0</text>\n</g>\n<!-- 1 -->\n<g id=\"node2\" class=\"node\">\n<title>1</title>\n<ellipse fill=\"none\" stroke=\"black\" cx=\"108\" cy=\"-18\" rx=\"27\" ry=\"18\"/>\n<text text-anchor=\"middle\" x=\"108\" y=\"-14.3\" font-family=\"Times,serif\" font-size=\"14.00\">1</text>\n</g>\n<!-- 2 -->\n<g id=\"node3\" class=\"node\">\n<title>2</title>\n<ellipse fill=\"none\" stroke=\"black\" cx=\"63\" cy=\"-90\" rx=\"27\" ry=\"18\"/>\n<text text-anchor=\"middle\" x=\"63\" y=\"-86.3\" font-family=\"Times,serif\" font-size=\"14.00\">2</text>\n</g>\n<!-- 2&#45;&#45;0 -->\n<g id=\"edge1\" class=\"edge\">\n<title>2&#45;&#45;0</title>\n<path fill=\"none\" stroke=\"black\" d=\"M54.65,-72.76C48.83,-61.46 41.11,-46.44 35.3,-35.15\"/>\n</g>\n<!-- 2&#45;&#45;1 -->\n<g id=\"edge2\" class=\"edge\">\n<title>2&#45;&#45;1</title>\n<path fill=\"none\" stroke=\"black\" d=\"M73.21,-73.12C80.58,-61.66 90.47,-46.26 97.83,-34.82\"/>\n</g>\n<!-- 3 -->\n<g id=\"node4\" class=\"node\">\n<title>3</title>\n<ellipse fill=\"none\" stroke=\"black\" cx=\"63\" cy=\"-162\" rx=\"27\" ry=\"18\"/>\n<text text-anchor=\"middle\" x=\"63\" y=\"-158.3\" font-family=\"Times,serif\" font-size=\"14.00\">3</text>\n</g>\n<!-- 3&#45;&#45;0 -->\n<g id=\"edge3\" class=\"edge\">\n<title>3&#45;&#45;0</title>\n<path fill=\"none\" stroke=\"black\" d=\"M49.25,-146.07C41.04,-136.1 31.38,-122.25 27,-108 19.6,-83.93 21.62,-54.43 24.07,-36.17\"/>\n</g>\n<!-- 3&#45;&#45;1 -->\n<g id=\"edge4\" class=\"edge\">\n<title>3&#45;&#45;1</title>\n<path fill=\"none\" stroke=\"black\" d=\"M76.27,-145.91C84.28,-135.87 93.91,-122.01 99,-108 107.65,-84.21 108.93,-54.63 108.72,-36.28\"/>\n</g>\n<!-- 3&#45;&#45;2 -->\n<g id=\"edge5\" class=\"edge\">\n<title>3&#45;&#45;2</title>\n<path fill=\"none\" stroke=\"black\" d=\"M63,-143.7C63,-132.85 63,-118.92 63,-108.1\"/>\n</g>\n</g>\n</svg>\n",
            "text/plain": [
              "<graphviz.graphs.Graph at 0x7f6b580ea620>"
            ]
          },
          "metadata": {},
          "execution_count": 88
        }
      ],
      "source": [
        "graphe1 = [[0,0,1,1],\n",
        "          [0,0,1,1],\n",
        "          [1,1,0,1],\n",
        "          [1,1,1,0]]\n",
        "\n",
        "noms_sommets_graphe1 = {0:\"Maths\", 1:\"Informatique\", 2:\"Anglais\", 3:\"Gestion\"}\n",
        "\n",
        "gdot1 = creation_graphe_graphviz(graphe1)\n",
        "#print(gdot1.source)\n",
        "gdot1"
      ]
    },
    {
      "cell_type": "markdown",
      "metadata": {
        "id": "uA_w_Bzeolv8"
      },
      "source": [
        "#### Définition d'un second graphe"
      ]
    },
    {
      "cell_type": "code",
      "execution_count": null,
      "metadata": {
        "id": "Id2cQ4NIolv9",
        "outputId": "2ad42410-6359-411f-ac7e-a495dfd2bd61",
        "colab": {
          "base_uri": "https://localhost:8080/",
          "height": 368
        }
      },
      "outputs": [
        {
          "output_type": "execute_result",
          "data": {
            "image/svg+xml": "<?xml version=\"1.0\" encoding=\"UTF-8\" standalone=\"no\"?>\n<!DOCTYPE svg PUBLIC \"-//W3C//DTD SVG 1.1//EN\"\n \"http://www.w3.org/Graphics/SVG/1.1/DTD/svg11.dtd\">\n<!-- Generated by graphviz version 2.43.0 (0)\n -->\n<!-- Title: %3 Pages: 1 -->\n<svg width=\"206pt\" height=\"260pt\"\n viewBox=\"0.00 0.00 206.00 260.00\" xmlns=\"http://www.w3.org/2000/svg\" xmlns:xlink=\"http://www.w3.org/1999/xlink\">\n<g id=\"graph0\" class=\"graph\" transform=\"scale(1 1) rotate(0) translate(4 256)\">\n<title>%3</title>\n<polygon fill=\"white\" stroke=\"transparent\" points=\"-4,4 -4,-256 202,-256 202,4 -4,4\"/>\n<!-- 0 -->\n<g id=\"node1\" class=\"node\">\n<title>0</title>\n<ellipse fill=\"none\" stroke=\"black\" cx=\"99\" cy=\"-18\" rx=\"27\" ry=\"18\"/>\n<text text-anchor=\"middle\" x=\"99\" y=\"-14.3\" font-family=\"Times,serif\" font-size=\"14.00\">0</text>\n</g>\n<!-- 1 -->\n<g id=\"node2\" class=\"node\">\n<title>1</title>\n<ellipse fill=\"none\" stroke=\"black\" cx=\"44\" cy=\"-90\" rx=\"27\" ry=\"18\"/>\n<text text-anchor=\"middle\" x=\"44\" y=\"-86.3\" font-family=\"Times,serif\" font-size=\"14.00\">1</text>\n</g>\n<!-- 1&#45;&#45;0 -->\n<g id=\"edge1\" class=\"edge\">\n<title>1&#45;&#45;0</title>\n<path fill=\"none\" stroke=\"black\" d=\"M55.93,-73.81C65.16,-62.07 77.87,-45.89 87.09,-34.16\"/>\n</g>\n<!-- 2 -->\n<g id=\"node3\" class=\"node\">\n<title>2</title>\n<ellipse fill=\"none\" stroke=\"black\" cx=\"154\" cy=\"-90\" rx=\"27\" ry=\"18\"/>\n<text text-anchor=\"middle\" x=\"154\" y=\"-86.3\" font-family=\"Times,serif\" font-size=\"14.00\">2</text>\n</g>\n<!-- 2&#45;&#45;0 -->\n<g id=\"edge2\" class=\"edge\">\n<title>2&#45;&#45;0</title>\n<path fill=\"none\" stroke=\"black\" d=\"M142.07,-73.81C132.84,-62.07 120.13,-45.89 110.91,-34.16\"/>\n</g>\n<!-- 3 -->\n<g id=\"node4\" class=\"node\">\n<title>3</title>\n<ellipse fill=\"none\" stroke=\"black\" cx=\"99\" cy=\"-162\" rx=\"27\" ry=\"18\"/>\n<text text-anchor=\"middle\" x=\"99\" y=\"-158.3\" font-family=\"Times,serif\" font-size=\"14.00\">3</text>\n</g>\n<!-- 3&#45;&#45;0 -->\n<g id=\"edge3\" class=\"edge\">\n<title>3&#45;&#45;0</title>\n<path fill=\"none\" stroke=\"black\" d=\"M99,-143.87C99,-116.58 99,-63.52 99,-36.19\"/>\n</g>\n<!-- 3&#45;&#45;1 -->\n<g id=\"edge4\" class=\"edge\">\n<title>3&#45;&#45;1</title>\n<path fill=\"none\" stroke=\"black\" d=\"M87.07,-145.81C77.84,-134.07 65.13,-117.89 55.91,-106.16\"/>\n</g>\n<!-- 3&#45;&#45;2 -->\n<g id=\"edge5\" class=\"edge\">\n<title>3&#45;&#45;2</title>\n<path fill=\"none\" stroke=\"black\" d=\"M110.93,-145.81C120.16,-134.07 132.87,-117.89 142.09,-106.16\"/>\n</g>\n<!-- 4 -->\n<g id=\"node5\" class=\"node\">\n<title>4</title>\n<ellipse fill=\"none\" stroke=\"black\" cx=\"171\" cy=\"-162\" rx=\"27\" ry=\"18\"/>\n<text text-anchor=\"middle\" x=\"171\" y=\"-158.3\" font-family=\"Times,serif\" font-size=\"14.00\">4</text>\n</g>\n<!-- 4&#45;&#45;2 -->\n<g id=\"edge6\" class=\"edge\">\n<title>4&#45;&#45;2</title>\n<path fill=\"none\" stroke=\"black\" d=\"M166.88,-144.05C164.25,-133.21 160.84,-119.18 158.2,-108.28\"/>\n</g>\n<!-- 5 -->\n<g id=\"node6\" class=\"node\">\n<title>5</title>\n<ellipse fill=\"none\" stroke=\"black\" cx=\"171\" cy=\"-234\" rx=\"27\" ry=\"18\"/>\n<text text-anchor=\"middle\" x=\"171\" y=\"-230.3\" font-family=\"Times,serif\" font-size=\"14.00\">5</text>\n</g>\n<!-- 5&#45;&#45;4 -->\n<g id=\"edge7\" class=\"edge\">\n<title>5&#45;&#45;4</title>\n<path fill=\"none\" stroke=\"black\" d=\"M171,-215.7C171,-204.85 171,-190.92 171,-180.1\"/>\n</g>\n<!-- 6 -->\n<g id=\"node7\" class=\"node\">\n<title>6</title>\n<ellipse fill=\"none\" stroke=\"black\" cx=\"27\" cy=\"-162\" rx=\"27\" ry=\"18\"/>\n<text text-anchor=\"middle\" x=\"27\" y=\"-158.3\" font-family=\"Times,serif\" font-size=\"14.00\">6</text>\n</g>\n<!-- 6&#45;&#45;1 -->\n<g id=\"edge8\" class=\"edge\">\n<title>6&#45;&#45;1</title>\n<path fill=\"none\" stroke=\"black\" d=\"M31.12,-144.05C33.75,-133.21 37.16,-119.18 39.8,-108.28\"/>\n</g>\n</g>\n</svg>\n",
            "text/plain": [
              "<graphviz.graphs.Graph at 0x7f6b580e9510>"
            ]
          },
          "metadata": {},
          "execution_count": 89
        }
      ],
      "source": [
        "graphe2 = [[0,1,1,1,0,0,0],\n",
        "           [1,0,0,1,0,0,1],\n",
        "           [1,0,0,1,1,0,0],\n",
        "           [1,1,1,0,0,0,0],\n",
        "           [0,0,1,0,0,1,0],\n",
        "           [0,0,0,0,1,0,0],\n",
        "           [0,1,0,0,0,0,0]]\n",
        "\n",
        "noms_sommets_graphe2 = {0:\"Thomas\",1:\"Anne\",2:\"Romain\",3:\"Delphine\",4:\"Lucas\",5:\"Marie\",6:\"Tom\"}\n",
        "\n",
        "gdot2 = creation_graphe_graphviz(graphe2)\n",
        "#print(gdot2.source)\n",
        "gdot2\n"
      ]
    },
    {
      "cell_type": "markdown",
      "source": [
        "#### Définition d'un troisieme graphe"
      ],
      "metadata": {
        "id": "k9L1X50U9Z98"
      }
    },
    {
      "cell_type": "code",
      "source": [
        "graphe3 = [[0,1,1,1,0,0,0,0,0],\n",
        "           [1,0,0,1,0,0,1,1,0],\n",
        "           [1,0,0,1,1,0,0,0,0],\n",
        "           [1,1,1,0,0,0,0,0,1],\n",
        "           [0,0,1,0,0,1,0,0,0],\n",
        "           [0,0,0,0,1,0,0,0,0],\n",
        "           [0,1,0,0,0,0,0,1,0],\n",
        "           [0,1,0,0,1,0,0,0,1],\n",
        "           [0,0,1,0,1,0,1,0,0]]\n",
        "\n",
        "noms_sommets_graphe2 = {0:\"Thomas\",1:\"Anne\",2:\"Romain\",3:\"Delphine\",4:\"Lucas\",5:\"Marie\",6:\"Tom\",7:\"Roudy\",8:\"Nathan\"}\n",
        "\n",
        "gdot3 = creation_graphe_graphviz(graphe3)\n",
        "#print(gdot2.source)\n",
        "gdot3"
      ],
      "metadata": {
        "colab": {
          "base_uri": "https://localhost:8080/",
          "height": 368
        },
        "id": "lMIieAEv9jyj",
        "outputId": "5742f627-cce9-49be-8a05-83764e4557e4"
      },
      "execution_count": null,
      "outputs": [
        {
          "output_type": "execute_result",
          "data": {
            "image/svg+xml": "<?xml version=\"1.0\" encoding=\"UTF-8\" standalone=\"no\"?>\n<!DOCTYPE svg PUBLIC \"-//W3C//DTD SVG 1.1//EN\"\n \"http://www.w3.org/Graphics/SVG/1.1/DTD/svg11.dtd\">\n<!-- Generated by graphviz version 2.43.0 (0)\n -->\n<!-- Title: %3 Pages: 1 -->\n<svg width=\"255pt\" height=\"260pt\"\n viewBox=\"0.00 0.00 255.14 260.00\" xmlns=\"http://www.w3.org/2000/svg\" xmlns:xlink=\"http://www.w3.org/1999/xlink\">\n<g id=\"graph0\" class=\"graph\" transform=\"scale(1 1) rotate(0) translate(4 256)\">\n<title>%3</title>\n<polygon fill=\"white\" stroke=\"transparent\" points=\"-4,4 -4,-256 251.14,-256 251.14,4 -4,4\"/>\n<!-- 0 -->\n<g id=\"node1\" class=\"node\">\n<title>0</title>\n<ellipse fill=\"none\" stroke=\"black\" cx=\"112.14\" cy=\"-18\" rx=\"27\" ry=\"18\"/>\n<text text-anchor=\"middle\" x=\"112.14\" y=\"-14.3\" font-family=\"Times,serif\" font-size=\"14.00\">0</text>\n</g>\n<!-- 1 -->\n<g id=\"node2\" class=\"node\">\n<title>1</title>\n<ellipse fill=\"none\" stroke=\"black\" cx=\"49.14\" cy=\"-90\" rx=\"27\" ry=\"18\"/>\n<text text-anchor=\"middle\" x=\"49.14\" y=\"-86.3\" font-family=\"Times,serif\" font-size=\"14.00\">1</text>\n</g>\n<!-- 1&#45;&#45;0 -->\n<g id=\"edge1\" class=\"edge\">\n<title>1&#45;&#45;0</title>\n<path fill=\"none\" stroke=\"black\" d=\"M62.5,-74.15C73.19,-62.28 88.11,-45.7 98.8,-33.82\"/>\n</g>\n<!-- 2 -->\n<g id=\"node3\" class=\"node\">\n<title>2</title>\n<ellipse fill=\"none\" stroke=\"black\" cx=\"175.14\" cy=\"-90\" rx=\"27\" ry=\"18\"/>\n<text text-anchor=\"middle\" x=\"175.14\" y=\"-86.3\" font-family=\"Times,serif\" font-size=\"14.00\">2</text>\n</g>\n<!-- 2&#45;&#45;0 -->\n<g id=\"edge2\" class=\"edge\">\n<title>2&#45;&#45;0</title>\n<path fill=\"none\" stroke=\"black\" d=\"M161.78,-74.15C151.09,-62.28 136.16,-45.7 125.48,-33.82\"/>\n</g>\n<!-- 3 -->\n<g id=\"node4\" class=\"node\">\n<title>3</title>\n<ellipse fill=\"none\" stroke=\"black\" cx=\"112.14\" cy=\"-162\" rx=\"27\" ry=\"18\"/>\n<text text-anchor=\"middle\" x=\"112.14\" y=\"-158.3\" font-family=\"Times,serif\" font-size=\"14.00\">3</text>\n</g>\n<!-- 3&#45;&#45;0 -->\n<g id=\"edge3\" class=\"edge\">\n<title>3&#45;&#45;0</title>\n<path fill=\"none\" stroke=\"black\" d=\"M112.14,-143.87C112.14,-116.58 112.14,-63.52 112.14,-36.19\"/>\n</g>\n<!-- 3&#45;&#45;1 -->\n<g id=\"edge4\" class=\"edge\">\n<title>3&#45;&#45;1</title>\n<path fill=\"none\" stroke=\"black\" d=\"M98.78,-146.15C88.09,-134.28 73.16,-117.7 62.48,-105.82\"/>\n</g>\n<!-- 3&#45;&#45;2 -->\n<g id=\"edge5\" class=\"edge\">\n<title>3&#45;&#45;2</title>\n<path fill=\"none\" stroke=\"black\" d=\"M125.5,-146.15C136.19,-134.28 151.11,-117.7 161.8,-105.82\"/>\n</g>\n<!-- 4 -->\n<g id=\"node5\" class=\"node\">\n<title>4</title>\n<ellipse fill=\"none\" stroke=\"black\" cx=\"184.14\" cy=\"-162\" rx=\"27\" ry=\"18\"/>\n<text text-anchor=\"middle\" x=\"184.14\" y=\"-158.3\" font-family=\"Times,serif\" font-size=\"14.00\">4</text>\n</g>\n<!-- 4&#45;&#45;2 -->\n<g id=\"edge6\" class=\"edge\">\n<title>4&#45;&#45;2</title>\n<path fill=\"none\" stroke=\"black\" d=\"M181.96,-144.05C180.56,-133.21 178.76,-119.18 177.36,-108.28\"/>\n</g>\n<!-- 5 -->\n<g id=\"node6\" class=\"node\">\n<title>5</title>\n<ellipse fill=\"none\" stroke=\"black\" cx=\"220.14\" cy=\"-234\" rx=\"27\" ry=\"18\"/>\n<text text-anchor=\"middle\" x=\"220.14\" y=\"-230.3\" font-family=\"Times,serif\" font-size=\"14.00\">5</text>\n</g>\n<!-- 5&#45;&#45;4 -->\n<g id=\"edge7\" class=\"edge\">\n<title>5&#45;&#45;4</title>\n<path fill=\"none\" stroke=\"black\" d=\"M211.79,-216.76C205.97,-205.46 198.25,-190.44 192.44,-179.15\"/>\n</g>\n<!-- 6 -->\n<g id=\"node7\" class=\"node\">\n<title>6</title>\n<ellipse fill=\"none\" stroke=\"black\" cx=\"40.14\" cy=\"-162\" rx=\"27\" ry=\"18\"/>\n<text text-anchor=\"middle\" x=\"40.14\" y=\"-158.3\" font-family=\"Times,serif\" font-size=\"14.00\">6</text>\n</g>\n<!-- 6&#45;&#45;1 -->\n<g id=\"edge8\" class=\"edge\">\n<title>6&#45;&#45;1</title>\n<path fill=\"none\" stroke=\"black\" d=\"M42.32,-144.05C43.71,-133.21 45.51,-119.18 46.92,-108.28\"/>\n</g>\n<!-- 7 -->\n<g id=\"node8\" class=\"node\">\n<title>7</title>\n<ellipse fill=\"none\" stroke=\"black\" cx=\"49.14\" cy=\"-234\" rx=\"27\" ry=\"18\"/>\n<text text-anchor=\"middle\" x=\"49.14\" y=\"-230.3\" font-family=\"Times,serif\" font-size=\"14.00\">7</text>\n</g>\n<!-- 7&#45;&#45;1 -->\n<g id=\"edge9\" class=\"edge\">\n<title>7&#45;&#45;1</title>\n<path fill=\"none\" stroke=\"black\" d=\"M32.93,-219.57C22.51,-209.82 9.88,-195.64 4.14,-180 -1.38,-164.98 -1.38,-159.02 4.14,-144 9.88,-128.36 22.51,-114.18 32.93,-104.43\"/>\n</g>\n<!-- 7&#45;&#45;4 -->\n<g id=\"edge10\" class=\"edge\">\n<title>7&#45;&#45;4</title>\n<path fill=\"none\" stroke=\"black\" d=\"M69.93,-222.22C95.38,-209.02 138.18,-186.83 163.54,-173.68\"/>\n</g>\n<!-- 8 -->\n<g id=\"node9\" class=\"node\">\n<title>8</title>\n<ellipse fill=\"none\" stroke=\"black\" cx=\"148.14\" cy=\"-234\" rx=\"27\" ry=\"18\"/>\n<text text-anchor=\"middle\" x=\"148.14\" y=\"-230.3\" font-family=\"Times,serif\" font-size=\"14.00\">8</text>\n</g>\n<!-- 8&#45;&#45;2 -->\n<g id=\"edge11\" class=\"edge\">\n<title>8&#45;&#45;2</title>\n<path fill=\"none\" stroke=\"black\" d=\"M170.23,-223.61C187.33,-215.01 209.77,-200.5 220.14,-180 227.36,-165.72 225.65,-159.02 220.14,-144 214.39,-128.36 201.77,-114.18 191.35,-104.43\"/>\n</g>\n<!-- 8&#45;&#45;4 -->\n<g id=\"edge12\" class=\"edge\">\n<title>8&#45;&#45;4</title>\n<path fill=\"none\" stroke=\"black\" d=\"M156.49,-216.76C162.3,-205.46 170.03,-190.44 175.83,-179.15\"/>\n</g>\n<!-- 8&#45;&#45;6 -->\n<g id=\"edge13\" class=\"edge\">\n<title>8&#45;&#45;6</title>\n<path fill=\"none\" stroke=\"black\" d=\"M129.32,-220.81C109.5,-207.96 78.47,-187.85 58.73,-175.05\"/>\n</g>\n</g>\n</svg>\n",
            "text/plain": [
              "<graphviz.graphs.Graph at 0x7f6b580eb940>"
            ]
          },
          "metadata": {},
          "execution_count": 117
        }
      ]
    },
    {
      "cell_type": "markdown",
      "metadata": {
        "id": "yDT5bRf6BnYR"
      },
      "source": [
        "## Coloration des sommets d'un graphe, sous la forme d'un dictionnaire, en utilisant l'algorithme de Welsh-Powell"
      ]
    },
    {
      "cell_type": "markdown",
      "metadata": {
        "id": "66FCjifaolv9"
      },
      "source": [
        "### Fonctions intermédiaires, à compléter (vous pouvez en définir de nouvelles)"
      ]
    },
    {
      "cell_type": "markdown",
      "metadata": {
        "id": "eWdkrwKlolv9"
      },
      "source": [
        "#### Fonction qui trie les sommets selon leur degré décroissant et qui retourne la liste des sommets ainsi triée"
      ]
    },
    {
      "cell_type": "code",
      "execution_count": null,
      "metadata": {
        "id": "mXmODsjLolv-"
      },
      "outputs": [],
      "source": [
        "def tri_sommets(g):\n",
        "    sommets_tries = []\n",
        "    for i in range(len(g)):\n",
        "        sommets_tries.append(i)\n",
        "\n",
        "    for k in range(len(sommets_tries)):\n",
        "        for j in range(len(sommets_tries) - 1):\n",
        "            if degre(g, sommets_tries[j]) < degre(g, sommets_tries[j+1]):\n",
        "                sommets_tries[j], sommets_tries[j+1] = sommets_tries[j+1], sommets_tries[j]\n",
        "\n",
        "    return sommets_tries"
      ]
    },
    {
      "cell_type": "code",
      "execution_count": null,
      "metadata": {
        "id": "hz2Oz70oolv-",
        "outputId": "35bcd17b-a5c0-4c0b-de15-e38dede8031d",
        "colab": {
          "base_uri": "https://localhost:8080/"
        }
      },
      "outputs": [
        {
          "output_type": "stream",
          "name": "stdout",
          "text": [
            "tri des sommets du graphe 1, selon leur degré décroissant\n",
            "[2, 3, 0, 1]\n"
          ]
        }
      ],
      "source": [
        "# test de la fonction tri_sommets\n",
        "print(\"tri des sommets du graphe 1, selon leur degré décroissant\")\n",
        "print(tri_sommets(graphe1))"
      ]
    },
    {
      "cell_type": "markdown",
      "metadata": {
        "id": "gj7UA4agolv-"
      },
      "source": [
        "#### Fonction qui affiche la coloration des sommets d'un graphe\n",
        "\n",
        "Reprenez la fonction `creation_graphe_graphviz(g)` et regardez le projet graphviz pour Python (https://pypi.org/project/graphviz/) pour afficher les couleurs des sommets sur le graphe (vous pouvez également regarder la page https://graphviz.org/doc/info/colors.html, pour avoir les noms de couleurs utilisables). \n",
        "Le graphe avec les sommets coloriés est obtenu à partir de `graphe`, le graphe de départ, et de `coloration`, le dictionnaire contenant la coloration des sommets (obtenu en résultat de la fonction `coloration_sommets_welsh_powell(graphe)`)."
      ]
    },
    {
      "cell_type": "code",
      "execution_count": null,
      "metadata": {
        "id": "A3rHCagqolv-"
      },
      "outputs": [],
      "source": [
        "def affichage_couleurs_sommets_graphviz(graphe, coloration):\n",
        "    # EN ATTENTE DE L AVIS DE ROUDY\n",
        "    tab_color = [\"red\", \"blue\", \"green\", \"yellow\", \"grey\", \"brown\"]\n",
        "\n",
        "    dot_col_som = graphviz.Graph()  # création d'un graphe vide\n",
        "    \n",
        "    for cle in coloration:\n",
        "        for sommet in coloration[cle]:\n",
        "            dot_col_som.node(str(sommet), color=tab_color[cle])\n",
        "    \n",
        "    for i in range(len(graphe)):\n",
        "        for j in range(i+1, len(graphe[i])):\n",
        "            if est_arete(graphe, i, j):\n",
        "                dot_col_som.edge(str(i), str(j))\n",
        "\n",
        "    return dot_col_som"
      ]
    },
    {
      "cell_type": "code",
      "execution_count": null,
      "metadata": {
        "id": "I27GbQeiolv_",
        "colab": {
          "base_uri": "https://localhost:8080/",
          "height": 272
        },
        "outputId": "85d61f0b-d724-49b6-8d4a-29d26597be3e"
      },
      "outputs": [
        {
          "output_type": "execute_result",
          "data": {
            "image/svg+xml": "<?xml version=\"1.0\" encoding=\"UTF-8\" standalone=\"no\"?>\n<!DOCTYPE svg PUBLIC \"-//W3C//DTD SVG 1.1//EN\"\n \"http://www.w3.org/Graphics/SVG/1.1/DTD/svg11.dtd\">\n<!-- Generated by graphviz version 2.43.0 (0)\n -->\n<!-- Title: %3 Pages: 1 -->\n<svg width=\"153pt\" height=\"188pt\"\n viewBox=\"0.00 0.00 153.00 188.00\" xmlns=\"http://www.w3.org/2000/svg\" xmlns:xlink=\"http://www.w3.org/1999/xlink\">\n<g id=\"graph0\" class=\"graph\" transform=\"scale(1 1) rotate(0) translate(4 184)\">\n<title>%3</title>\n<polygon fill=\"white\" stroke=\"transparent\" points=\"-4,4 -4,-184 149,-184 149,4 -4,4\"/>\n<!-- 2 -->\n<g id=\"node1\" class=\"node\">\n<title>2</title>\n<ellipse fill=\"none\" stroke=\"red\" cx=\"73\" cy=\"-90\" rx=\"27\" ry=\"18\"/>\n<text text-anchor=\"middle\" x=\"73\" y=\"-86.3\" font-family=\"Times,serif\" font-size=\"14.00\">2</text>\n</g>\n<!-- 3 -->\n<g id=\"node2\" class=\"node\">\n<title>3</title>\n<ellipse fill=\"none\" stroke=\"blue\" cx=\"73\" cy=\"-18\" rx=\"27\" ry=\"18\"/>\n<text text-anchor=\"middle\" x=\"73\" y=\"-14.3\" font-family=\"Times,serif\" font-size=\"14.00\">3</text>\n</g>\n<!-- 2&#45;&#45;3 -->\n<g id=\"edge5\" class=\"edge\">\n<title>2&#45;&#45;3</title>\n<path fill=\"none\" stroke=\"black\" d=\"M73,-71.7C73,-60.85 73,-46.92 73,-36.1\"/>\n</g>\n<!-- 0 -->\n<g id=\"node3\" class=\"node\">\n<title>0</title>\n<ellipse fill=\"none\" stroke=\"green\" cx=\"27\" cy=\"-162\" rx=\"27\" ry=\"18\"/>\n<text text-anchor=\"middle\" x=\"27\" y=\"-158.3\" font-family=\"Times,serif\" font-size=\"14.00\">0</text>\n</g>\n<!-- 0&#45;&#45;2 -->\n<g id=\"edge1\" class=\"edge\">\n<title>0&#45;&#45;2</title>\n<path fill=\"none\" stroke=\"black\" d=\"M37.44,-145.12C44.97,-133.66 55.08,-118.26 62.6,-106.82\"/>\n</g>\n<!-- 0&#45;&#45;3 -->\n<g id=\"edge2\" class=\"edge\">\n<title>0&#45;&#45;3</title>\n<path fill=\"none\" stroke=\"black\" d=\"M26.52,-143.71C26.56,-125.35 28.21,-95.77 37,-72 42.17,-58.02 51.79,-44.15 59.79,-34.11\"/>\n</g>\n<!-- 1 -->\n<g id=\"node4\" class=\"node\">\n<title>1</title>\n<ellipse fill=\"none\" stroke=\"green\" cx=\"118\" cy=\"-162\" rx=\"27\" ry=\"18\"/>\n<text text-anchor=\"middle\" x=\"118\" y=\"-158.3\" font-family=\"Times,serif\" font-size=\"14.00\">1</text>\n</g>\n<!-- 1&#45;&#45;2 -->\n<g id=\"edge3\" class=\"edge\">\n<title>1&#45;&#45;2</title>\n<path fill=\"none\" stroke=\"black\" d=\"M107.79,-145.12C100.42,-133.66 90.53,-118.26 83.17,-106.82\"/>\n</g>\n<!-- 1&#45;&#45;3 -->\n<g id=\"edge4\" class=\"edge\">\n<title>1&#45;&#45;3</title>\n<path fill=\"none\" stroke=\"black\" d=\"M118.72,-143.72C118.93,-125.37 117.65,-95.79 109,-72 103.91,-57.99 94.28,-44.13 86.27,-34.09\"/>\n</g>\n</g>\n</svg>\n",
            "text/plain": [
              "<graphviz.graphs.Graph at 0x7f6b580e8940>"
            ]
          },
          "metadata": {},
          "execution_count": 93
        }
      ],
      "source": [
        "# test de la fonction affichage_couleurs_sommets_graphviz\n",
        "\n",
        "\n",
        "test1 = affichage_couleurs_sommets_graphviz(graphe1, {0: [2], 1: [3], 2 : [0,1]})\n",
        "\n",
        "test1"
      ]
    },
    {
      "cell_type": "markdown",
      "metadata": {
        "id": "AOAh-v1Wolv_"
      },
      "source": [
        "### Fonction principale, pour la coloration de sommets"
      ]
    },
    {
      "cell_type": "markdown",
      "metadata": {
        "id": "AJ9bP-fwolv_"
      },
      "source": [
        "#### Fonction qui fait la coloration de sommets avec l'algorithme de Welsh-Powell\n",
        "Le dictionnaire, retourné par la fonction, associe un numéro de couleur (clé du dictionnaire) et la liste des sommets de cette couleur (valeur du dictionnaire)."
      ]
    },
    {
      "cell_type": "code",
      "source": [
        "def coloration_sommets_welsh_powell(graphe):\n",
        "    couleurs = {}\n",
        "    sommets_tries = tri_sommets(graphe)\n",
        "    nb_couleur = 0\n",
        "\n",
        "    for sommet_courant in sommets_tries :                \n",
        "        if not est_deja_colorier(graphe,couleurs,sommet_courant) :\n",
        "            couleurs[nb_couleur] = [sommet_courant]\n",
        "\n",
        "            for autres_sommets in sommets_tries :                        \n",
        "                if not est_arete(graphe,sommet_courant, autres_sommets) and \\\n",
        "                    not est_voisin_avec_autre(graphe, autres_sommets,couleurs[nb_couleur]) and \\\n",
        "                    not est_deja_colorier(graphe, couleurs,autres_sommets) :\n",
        "                    couleurs[nb_couleur].append(autres_sommets)\n",
        "            nb_couleur += 1\n",
        "    return couleurs"
      ],
      "metadata": {
        "id": "ZrPb-B_JrCEo"
      },
      "execution_count": null,
      "outputs": []
    },
    {
      "cell_type": "code",
      "source": [
        "def est_deja_colorier(graphe, couleur,sommet) :\n",
        "    for nb_couleur in couleur.keys() :\n",
        "        if sommet in couleur[nb_couleur] :\n",
        "            return True \n",
        "    return False"
      ],
      "metadata": {
        "id": "9WeTspPipU8l"
      },
      "execution_count": null,
      "outputs": []
    },
    {
      "cell_type": "code",
      "source": [
        "def est_voisin_avec_autre(graphe, sommet, sommet_colorie) :\n",
        "    for autre_sommet in sommet_colorie :\n",
        "        if est_arete(graphe,sommet,autre_sommet) or est_arete(graphe,autre_sommet,sommet):\n",
        "            return True\n",
        "    return False"
      ],
      "metadata": {
        "id": "2ZlJ4Y6upUvB"
      },
      "execution_count": null,
      "outputs": []
    },
    {
      "cell_type": "code",
      "execution_count": null,
      "metadata": {
        "colab": {
          "base_uri": "https://localhost:8080/"
        },
        "id": "Q-zes9LUCA0p",
        "outputId": "3f7305d4-85ad-4e3a-ec44-aab19ad702fc"
      },
      "outputs": [
        {
          "output_type": "stream",
          "name": "stdout",
          "text": [
            "coloration des sommets du graphe\n",
            "{0: [2], 1: [3], 2: [0, 1]}\n"
          ]
        }
      ],
      "source": [
        "# test de la fonction coloration_sommets_welsh_powell\n",
        "print(\"coloration des sommets du graphe\")\n",
        "couleurs_sommets = coloration_sommets_welsh_powell(graphe1)\n",
        "print(couleurs_sommets)"
      ]
    },
    {
      "cell_type": "markdown",
      "source": [
        "### Tests permettant l'utilisation des fonctions affichage_couleurs_sommets_graphviz et coloration_sommets_welsh_powell"
      ],
      "metadata": {
        "id": "guvhxGqO72yL"
      }
    },
    {
      "cell_type": "code",
      "source": [
        "test_graphe_1 = affichage_couleurs_sommets_graphviz(graphe1, coloration_sommets_welsh_powell(graphe1))\n",
        "test_graphe_2 = affichage_couleurs_sommets_graphviz(graphe2, coloration_sommets_welsh_powell(graphe2))\n",
        "\n",
        "test_graphe_2"
      ],
      "metadata": {
        "colab": {
          "base_uri": "https://localhost:8080/",
          "height": 368
        },
        "id": "XvtcSUVI8Vfa",
        "outputId": "f4f6d161-5edd-4beb-9bb6-089af87b478f"
      },
      "execution_count": null,
      "outputs": [
        {
          "output_type": "execute_result",
          "data": {
            "image/svg+xml": "<?xml version=\"1.0\" encoding=\"UTF-8\" standalone=\"no\"?>\n<!DOCTYPE svg PUBLIC \"-//W3C//DTD SVG 1.1//EN\"\n \"http://www.w3.org/Graphics/SVG/1.1/DTD/svg11.dtd\">\n<!-- Generated by graphviz version 2.43.0 (0)\n -->\n<!-- Title: %3 Pages: 1 -->\n<svg width=\"206pt\" height=\"260pt\"\n viewBox=\"0.00 0.00 206.00 260.00\" xmlns=\"http://www.w3.org/2000/svg\" xmlns:xlink=\"http://www.w3.org/1999/xlink\">\n<g id=\"graph0\" class=\"graph\" transform=\"scale(1 1) rotate(0) translate(4 256)\">\n<title>%3</title>\n<polygon fill=\"white\" stroke=\"transparent\" points=\"-4,4 -4,-256 202,-256 202,4 -4,4\"/>\n<!-- 0 -->\n<g id=\"node1\" class=\"node\">\n<title>0</title>\n<ellipse fill=\"none\" stroke=\"red\" cx=\"99\" cy=\"-234\" rx=\"27\" ry=\"18\"/>\n<text text-anchor=\"middle\" x=\"99\" y=\"-230.3\" font-family=\"Times,serif\" font-size=\"14.00\">0</text>\n</g>\n<!-- 1 -->\n<g id=\"node4\" class=\"node\">\n<title>1</title>\n<ellipse fill=\"none\" stroke=\"blue\" cx=\"44\" cy=\"-162\" rx=\"27\" ry=\"18\"/>\n<text text-anchor=\"middle\" x=\"44\" y=\"-158.3\" font-family=\"Times,serif\" font-size=\"14.00\">1</text>\n</g>\n<!-- 0&#45;&#45;1 -->\n<g id=\"edge1\" class=\"edge\">\n<title>0&#45;&#45;1</title>\n<path fill=\"none\" stroke=\"black\" d=\"M87.07,-217.81C77.84,-206.07 65.13,-189.89 55.91,-178.16\"/>\n</g>\n<!-- 2 -->\n<g id=\"node5\" class=\"node\">\n<title>2</title>\n<ellipse fill=\"none\" stroke=\"blue\" cx=\"154\" cy=\"-162\" rx=\"27\" ry=\"18\"/>\n<text text-anchor=\"middle\" x=\"154\" y=\"-158.3\" font-family=\"Times,serif\" font-size=\"14.00\">2</text>\n</g>\n<!-- 0&#45;&#45;2 -->\n<g id=\"edge2\" class=\"edge\">\n<title>0&#45;&#45;2</title>\n<path fill=\"none\" stroke=\"black\" d=\"M110.93,-217.81C120.16,-206.07 132.87,-189.89 142.09,-178.16\"/>\n</g>\n<!-- 3 -->\n<g id=\"node7\" class=\"node\">\n<title>3</title>\n<ellipse fill=\"none\" stroke=\"green\" cx=\"99\" cy=\"-90\" rx=\"27\" ry=\"18\"/>\n<text text-anchor=\"middle\" x=\"99\" y=\"-86.3\" font-family=\"Times,serif\" font-size=\"14.00\">3</text>\n</g>\n<!-- 0&#45;&#45;3 -->\n<g id=\"edge3\" class=\"edge\">\n<title>0&#45;&#45;3</title>\n<path fill=\"none\" stroke=\"black\" d=\"M99,-215.87C99,-188.58 99,-135.52 99,-108.19\"/>\n</g>\n<!-- 4 -->\n<g id=\"node2\" class=\"node\">\n<title>4</title>\n<ellipse fill=\"none\" stroke=\"red\" cx=\"171\" cy=\"-90\" rx=\"27\" ry=\"18\"/>\n<text text-anchor=\"middle\" x=\"171\" y=\"-86.3\" font-family=\"Times,serif\" font-size=\"14.00\">4</text>\n</g>\n<!-- 5 -->\n<g id=\"node6\" class=\"node\">\n<title>5</title>\n<ellipse fill=\"none\" stroke=\"blue\" cx=\"171\" cy=\"-18\" rx=\"27\" ry=\"18\"/>\n<text text-anchor=\"middle\" x=\"171\" y=\"-14.3\" font-family=\"Times,serif\" font-size=\"14.00\">5</text>\n</g>\n<!-- 4&#45;&#45;5 -->\n<g id=\"edge8\" class=\"edge\">\n<title>4&#45;&#45;5</title>\n<path fill=\"none\" stroke=\"black\" d=\"M171,-71.7C171,-60.85 171,-46.92 171,-36.1\"/>\n</g>\n<!-- 6 -->\n<g id=\"node3\" class=\"node\">\n<title>6</title>\n<ellipse fill=\"none\" stroke=\"red\" cx=\"27\" cy=\"-90\" rx=\"27\" ry=\"18\"/>\n<text text-anchor=\"middle\" x=\"27\" y=\"-86.3\" font-family=\"Times,serif\" font-size=\"14.00\">6</text>\n</g>\n<!-- 1&#45;&#45;6 -->\n<g id=\"edge5\" class=\"edge\">\n<title>1&#45;&#45;6</title>\n<path fill=\"none\" stroke=\"black\" d=\"M39.88,-144.05C37.25,-133.21 33.84,-119.18 31.2,-108.28\"/>\n</g>\n<!-- 1&#45;&#45;3 -->\n<g id=\"edge4\" class=\"edge\">\n<title>1&#45;&#45;3</title>\n<path fill=\"none\" stroke=\"black\" d=\"M55.93,-145.81C65.16,-134.07 77.87,-117.89 87.09,-106.16\"/>\n</g>\n<!-- 2&#45;&#45;4 -->\n<g id=\"edge7\" class=\"edge\">\n<title>2&#45;&#45;4</title>\n<path fill=\"none\" stroke=\"black\" d=\"M158.12,-144.05C160.75,-133.21 164.16,-119.18 166.8,-108.28\"/>\n</g>\n<!-- 2&#45;&#45;3 -->\n<g id=\"edge6\" class=\"edge\">\n<title>2&#45;&#45;3</title>\n<path fill=\"none\" stroke=\"black\" d=\"M142.07,-145.81C132.84,-134.07 120.13,-117.89 110.91,-106.16\"/>\n</g>\n</g>\n</svg>\n",
            "text/plain": [
              "<graphviz.graphs.Graph at 0x7f6b580ebd90>"
            ]
          },
          "metadata": {},
          "execution_count": 98
        }
      ]
    },
    {
      "cell_type": "markdown",
      "metadata": {
        "id": "vn8M4fi5olwA"
      },
      "source": [
        "## Coloration des arêtes d'un graphes, sous la forme d'un dictionnaire, en utilisant l'algorithme de Welsh-Powell"
      ]
    },
    {
      "cell_type": "markdown",
      "metadata": {
        "id": "FDk3pqoGolwA"
      },
      "source": [
        "### Fonctions intermédiaires, à compléter (vous pouvez en définir de nouvelles)"
      ]
    },
    {
      "cell_type": "markdown",
      "metadata": {
        "id": "pw2OfH3TolwA"
      },
      "source": [
        "#### Fonction qui construit le graphe aux arêtes correspondant au graphe donné.\n",
        "Les noms des sommets, dans le graphe aux arêtes, sont des tuples contenant les 2 numéros de sommets composant l'arête. La fonction retourne à la fois la matrice correspondant au graphe aux arêtes (variable `g_aretes`) et le dictionnaire donnant la correspondance entre chaque numéro de sommet dans le graphe aux arêtes et le nom de l'arête qu'il représente (variable `dict_aretes`)."
      ]
    },
    {
      "cell_type": "code",
      "execution_count": null,
      "metadata": {
        "id": "_SXey2DColwA"
      },
      "outputs": [],
      "source": [
        "def graphe_aux_aretes(graphe):\n",
        "    g_aretes = graphe_vide(nb_aretes(graphe))\n",
        "    dict_aretes = {}\n",
        "    \n",
        "    # à compléter\n",
        "    \n",
        "    return (g_aretes, dict_aretes)"
      ]
    },
    {
      "cell_type": "code",
      "execution_count": null,
      "metadata": {
        "id": "LQ1khdW5olwB"
      },
      "outputs": [],
      "source": [
        "# test de la fonction graphe_aux_aretes"
      ]
    },
    {
      "cell_type": "markdown",
      "metadata": {
        "id": "fUBcgsaUolwB"
      },
      "source": [
        "#### Fonction qui affiche la coloration des arêtes d'un graphe\n",
        "\n",
        "Reprenez la fonction `creation_graphe_graphviz(g)` et regardez le projet graphviz pour Python (https://pypi.org/project/graphviz/) pour afficher les couleurs des arêtes sur le graphe (vous pouvez également regarder la page https://graphviz.org/doc/info/colors.html, pour avoir les noms de couleurs utilisables). \n",
        "Le graphe avec les arêtes coloriées est obtenu à partir de `graphe`, le graphe de départ, et de `coloration`, la coloration des arêtes donnée sous la forme d'un dictionnaire (obtenu en résultat de la fonction `coloration_aretes_welsh_powell(graphe)`)."
      ]
    },
    {
      "cell_type": "code",
      "execution_count": null,
      "metadata": {
        "id": "I0VSRrDvolwB"
      },
      "outputs": [],
      "source": [
        "def affichage_couleurs_aretes_graphviz(graphe, coloration):\n",
        "    # création d'un graphe non orienté, avec des arêtes coloriés\n",
        "    dot_col_aretes = graphviz.Graph()\n",
        "    \n",
        "    # compléter\n",
        "    \n",
        "    return dot_col_aretes"
      ]
    },
    {
      "cell_type": "code",
      "execution_count": null,
      "metadata": {
        "id": "nu7PZz1kolwB"
      },
      "outputs": [],
      "source": [
        "# test de la fonction affichage_couleurs_aretes_graphviz"
      ]
    },
    {
      "cell_type": "markdown",
      "metadata": {
        "id": "vTNpegIeolwC"
      },
      "source": [
        "### Fonction principale, pour la coloration d'arêtes"
      ]
    },
    {
      "cell_type": "markdown",
      "metadata": {
        "id": "WvUc7xgKolwC"
      },
      "source": [
        "#### Fonction qui fait la coloration d'arêtes, avec l'algorithme de Welsh-Powell\n",
        "\n",
        "Le dictionnaire, retourné par la fonction, associe un numéro de couleur (clé du dictionnaire) et la liste des arêtes de cette couleur (valeur du dictionnaire). Une arête est définie par un tuple contenant les 2 numéros de sommets composant l'arête."
      ]
    },
    {
      "cell_type": "code",
      "execution_count": null,
      "metadata": {
        "id": "rlhGvYvuolwC"
      },
      "outputs": [],
      "source": [
        "def coloration_aretes_welsh_powell(graphe):\n",
        "    couleurs = {}\n",
        "    \n",
        "    # à compléter\n",
        "    \n",
        "    return couleurs"
      ]
    },
    {
      "cell_type": "code",
      "execution_count": null,
      "metadata": {
        "id": "0Tl3mcw9olwC"
      },
      "outputs": [],
      "source": [
        "# test de la fonction coloration_aretes_welsh_powell"
      ]
    },
    {
      "cell_type": "markdown",
      "metadata": {
        "id": "ceQVpwRVolwC"
      },
      "source": [
        "## Résolution de problèmes de plannings à l'aide de la coloration de graphes"
      ]
    },
    {
      "cell_type": "markdown",
      "metadata": {
        "id": "Cb1wsJsgolwC"
      },
      "source": [
        "### Fonctions intermédiaires, à compléter (vous pouvez en définir de nouvelles)"
      ]
    },
    {
      "cell_type": "markdown",
      "metadata": {
        "id": "l3zry7HsolwD"
      },
      "source": [
        "#### Affichage du planning donné par le dictionnaire `dico_planning`\n",
        "Les clés du dictionnaire correspondent aux noms des créneaux et les valeurs aux événements ayant lieu durant chaque créneau."
      ]
    },
    {
      "cell_type": "code",
      "execution_count": null,
      "metadata": {
        "id": "JySjXdwJolwD"
      },
      "outputs": [],
      "source": [
        "def affichage_planning(dico_planning):\n",
        "    for key, value in dico_planning.items() :\n",
        "        print(key, \"--->\", value)"
      ]
    },
    {
      "cell_type": "code",
      "execution_count": null,
      "metadata": {
        "id": "0TAnupAeolwD"
      },
      "outputs": [],
      "source": [
        "# test de la fonction affichage_planning"
      ]
    },
    {
      "cell_type": "markdown",
      "metadata": {
        "id": "56xpj92folwD"
      },
      "source": [
        "### Fonctions principales, pour la création de plannings à l'aide de la coloration de graphes"
      ]
    },
    {
      "cell_type": "markdown",
      "metadata": {
        "id": "PrIJhE3eolwD"
      },
      "source": [
        "#### Fonction qui crée un planning de rattrapage des examens, à partir du graphe `graphe`, définissant les incompatibilités entre les examens (c'est-à-dire les examens ne pouvant pas avoir lieu en même temps)\n",
        "`noms_sommets` correspond aux noms des sommets (c'est-à-dire des examens) et `noms_couleurs` correspond aux noms des couleurs (c'est-à-dire le nom des créneaux horaires à considérer dans le planning), pour pouvoir donner le planning en fonction de ces informations (au lieu de conserver les numéros de sommets et les numéros des couleurs)."
      ]
    },
    {
      "cell_type": "code",
      "execution_count": null,
      "metadata": {
        "id": "JWwN-znzolwD"
      },
      "outputs": [],
      "source": [
        "def creation_planning_rattrapages(graphe, noms_sommets, noms_couleurs):\n",
        "    planning = {}\n",
        "    res_coloration = coloration_sommets_welsh_powell(graphe)\n",
        "    print(res_coloration)\n",
        "    for key, value in res_coloration.items() :\n",
        "        planning[noms_couleurs[key]] = [noms_sommets[sommet] for sommet in value]\n",
        "    return planning"
      ]
    },
    {
      "cell_type": "code",
      "execution_count": null,
      "metadata": {
        "id": "5mucWhFqolwE",
        "colab": {
          "base_uri": "https://localhost:8080/",
          "height": 651
        },
        "outputId": "ffcb793a-bfd0-4e3a-acdc-897085cf2042"
      },
      "outputs": [
        {
          "output_type": "stream",
          "name": "stdout",
          "text": [
            "{0: [2, 1, 5], 1: [3, 8], 2: [6, 4], 3: [7, 0]}\n",
            "1er demi-journée ---> ['AAL', 'DLIL', 'RSL']\n",
            "2ème demi-journée ---> ['AAC', 'SSLM']\n",
            "3ème demi-journée ---> ['RL', 'FT']\n",
            "4éme demi-journée ---> ['TA', 'Cor']\n"
          ]
        },
        {
          "output_type": "execute_result",
          "data": {
            "image/svg+xml": "<?xml version=\"1.0\" encoding=\"UTF-8\" standalone=\"no\"?>\n<!DOCTYPE svg PUBLIC \"-//W3C//DTD SVG 1.1//EN\"\n \"http://www.w3.org/Graphics/SVG/1.1/DTD/svg11.dtd\">\n<!-- Generated by graphviz version 2.43.0 (0)\n -->\n<!-- Title: %3 Pages: 1 -->\n<svg width=\"344pt\" height=\"404pt\"\n viewBox=\"0.00 0.00 343.62 404.00\" xmlns=\"http://www.w3.org/2000/svg\" xmlns:xlink=\"http://www.w3.org/1999/xlink\">\n<g id=\"graph0\" class=\"graph\" transform=\"scale(1 1) rotate(0) translate(4 400)\">\n<title>%3</title>\n<polygon fill=\"white\" stroke=\"transparent\" points=\"-4,4 -4,-400 339.62,-400 339.62,4 -4,4\"/>\n<!-- 0 -->\n<g id=\"node1\" class=\"node\">\n<title>0</title>\n<ellipse fill=\"none\" stroke=\"black\" cx=\"224\" cy=\"-18\" rx=\"27\" ry=\"18\"/>\n<text text-anchor=\"middle\" x=\"224\" y=\"-14.3\" font-family=\"Times,serif\" font-size=\"14.00\">0</text>\n</g>\n<!-- 1 -->\n<g id=\"node2\" class=\"node\">\n<title>1</title>\n<ellipse fill=\"none\" stroke=\"black\" cx=\"76\" cy=\"-90\" rx=\"27\" ry=\"18\"/>\n<text text-anchor=\"middle\" x=\"76\" y=\"-86.3\" font-family=\"Times,serif\" font-size=\"14.00\">1</text>\n</g>\n<!-- 2 -->\n<g id=\"node3\" class=\"node\">\n<title>2</title>\n<ellipse fill=\"none\" stroke=\"black\" cx=\"224\" cy=\"-90\" rx=\"27\" ry=\"18\"/>\n<text text-anchor=\"middle\" x=\"224\" y=\"-86.3\" font-family=\"Times,serif\" font-size=\"14.00\">2</text>\n</g>\n<!-- 2&#45;&#45;0 -->\n<g id=\"edge1\" class=\"edge\">\n<title>2&#45;&#45;0</title>\n<path fill=\"none\" stroke=\"black\" d=\"M224,-71.7C224,-60.85 224,-46.92 224,-36.1\"/>\n</g>\n<!-- 3 -->\n<g id=\"node4\" class=\"node\">\n<title>3</title>\n<ellipse fill=\"none\" stroke=\"black\" cx=\"169\" cy=\"-162\" rx=\"27\" ry=\"18\"/>\n<text text-anchor=\"middle\" x=\"169\" y=\"-158.3\" font-family=\"Times,serif\" font-size=\"14.00\">3</text>\n</g>\n<!-- 3&#45;&#45;1 -->\n<g id=\"edge2\" class=\"edge\">\n<title>3&#45;&#45;1</title>\n<path fill=\"none\" stroke=\"black\" d=\"M151.51,-147.83C134.88,-135.32 110.02,-116.6 93.41,-104.11\"/>\n</g>\n<!-- 3&#45;&#45;2 -->\n<g id=\"edge3\" class=\"edge\">\n<title>3&#45;&#45;2</title>\n<path fill=\"none\" stroke=\"black\" d=\"M180.93,-145.81C190.16,-134.07 202.87,-117.89 212.09,-106.16\"/>\n</g>\n<!-- 4 -->\n<g id=\"node5\" class=\"node\">\n<title>4</title>\n<ellipse fill=\"none\" stroke=\"black\" cx=\"93\" cy=\"-234\" rx=\"27\" ry=\"18\"/>\n<text text-anchor=\"middle\" x=\"93\" y=\"-230.3\" font-family=\"Times,serif\" font-size=\"14.00\">4</text>\n</g>\n<!-- 4&#45;&#45;1 -->\n<g id=\"edge4\" class=\"edge\">\n<title>4&#45;&#45;1</title>\n<path fill=\"none\" stroke=\"black\" d=\"M90.95,-215.87C87.68,-188.58 81.33,-135.52 78.06,-108.19\"/>\n</g>\n<!-- 4&#45;&#45;2 -->\n<g id=\"edge5\" class=\"edge\">\n<title>4&#45;&#45;2</title>\n<path fill=\"none\" stroke=\"black\" d=\"M97.18,-216.18C102.68,-196.87 113.96,-165.15 133,-144 151.71,-123.21 180.56,-108.34 200.75,-99.74\"/>\n</g>\n<!-- 4&#45;&#45;3 -->\n<g id=\"edge6\" class=\"edge\">\n<title>4&#45;&#45;3</title>\n<path fill=\"none\" stroke=\"black\" d=\"M108.38,-218.83C121.57,-206.69 140.46,-189.28 153.64,-177.14\"/>\n</g>\n<!-- 5 -->\n<g id=\"node6\" class=\"node\">\n<title>5</title>\n<ellipse fill=\"none\" stroke=\"black\" cx=\"241\" cy=\"-234\" rx=\"27\" ry=\"18\"/>\n<text text-anchor=\"middle\" x=\"241\" y=\"-230.3\" font-family=\"Times,serif\" font-size=\"14.00\">5</text>\n</g>\n<!-- 5&#45;&#45;3 -->\n<g id=\"edge7\" class=\"edge\">\n<title>5&#45;&#45;3</title>\n<path fill=\"none\" stroke=\"black\" d=\"M226.43,-218.83C214.02,-206.77 196.27,-189.51 183.8,-177.38\"/>\n</g>\n<!-- 6 -->\n<g id=\"node7\" class=\"node\">\n<title>6</title>\n<ellipse fill=\"none\" stroke=\"black\" cx=\"296\" cy=\"-306\" rx=\"27\" ry=\"18\"/>\n<text text-anchor=\"middle\" x=\"296\" y=\"-302.3\" font-family=\"Times,serif\" font-size=\"14.00\">6</text>\n</g>\n<!-- 6&#45;&#45;0 -->\n<g id=\"edge8\" class=\"edge\">\n<title>6&#45;&#45;0</title>\n<path fill=\"none\" stroke=\"black\" d=\"M303.29,-288.18C307.33,-277.94 311.94,-264.46 314,-252 316.61,-236.21 316.76,-231.76 314,-216 302.22,-148.67 291.79,-132.51 260,-72 253.07,-58.81 243.53,-44.9 236.01,-34.65\"/>\n</g>\n<!-- 6&#45;&#45;2 -->\n<g id=\"edge9\" class=\"edge\">\n<title>6&#45;&#45;2</title>\n<path fill=\"none\" stroke=\"black\" d=\"M299.23,-287.92C302.02,-269.74 304.65,-240.3 298,-216 286.08,-172.46 254.65,-128.69 236.82,-106.31\"/>\n</g>\n<!-- 6&#45;&#45;3 -->\n<g id=\"edge10\" class=\"edge\">\n<title>6&#45;&#45;3</title>\n<path fill=\"none\" stroke=\"black\" d=\"M296.59,-287.75C296.37,-268.34 293.23,-236.8 277,-216 256.45,-189.65 219.4,-175.53 194.5,-168.65\"/>\n</g>\n<!-- 6&#45;&#45;5 -->\n<g id=\"edge11\" class=\"edge\">\n<title>6&#45;&#45;5</title>\n<path fill=\"none\" stroke=\"black\" d=\"M284.07,-289.81C274.84,-278.07 262.13,-261.89 252.91,-250.16\"/>\n</g>\n<!-- 7 -->\n<g id=\"node8\" class=\"node\">\n<title>7</title>\n<ellipse fill=\"none\" stroke=\"black\" cx=\"120\" cy=\"-306\" rx=\"27\" ry=\"18\"/>\n<text text-anchor=\"middle\" x=\"120\" y=\"-302.3\" font-family=\"Times,serif\" font-size=\"14.00\">7</text>\n</g>\n<!-- 7&#45;&#45;1 -->\n<g id=\"edge12\" class=\"edge\">\n<title>7&#45;&#45;1</title>\n<path fill=\"none\" stroke=\"black\" d=\"M99.36,-294.16C84.53,-285.1 65.69,-270.66 57,-252 34.31,-203.26 56.06,-137.63 68.56,-107.44\"/>\n</g>\n<!-- 7&#45;&#45;2 -->\n<g id=\"edge13\" class=\"edge\">\n<title>7&#45;&#45;2</title>\n<path fill=\"none\" stroke=\"black\" d=\"M133.23,-290.02C152.2,-267.69 186.85,-223.61 205,-180 214.89,-156.22 219.89,-126.64 222.22,-108.29\"/>\n</g>\n<!-- 7&#45;&#45;3 -->\n<g id=\"edge14\" class=\"edge\">\n<title>7&#45;&#45;3</title>\n<path fill=\"none\" stroke=\"black\" d=\"M125.81,-288.15C135.24,-260.82 153.77,-207.14 163.19,-179.82\"/>\n</g>\n<!-- 7&#45;&#45;4 -->\n<g id=\"edge15\" class=\"edge\">\n<title>7&#45;&#45;4</title>\n<path fill=\"none\" stroke=\"black\" d=\"M113.6,-288.41C109.36,-277.41 103.81,-263.03 99.54,-251.96\"/>\n</g>\n<!-- 8 -->\n<g id=\"node9\" class=\"node\">\n<title>8</title>\n<ellipse fill=\"none\" stroke=\"black\" cx=\"268\" cy=\"-378\" rx=\"27\" ry=\"18\"/>\n<text text-anchor=\"middle\" x=\"268\" y=\"-374.3\" font-family=\"Times,serif\" font-size=\"14.00\">8</text>\n</g>\n<!-- 8&#45;&#45;0 -->\n<g id=\"edge16\" class=\"edge\">\n<title>8&#45;&#45;0</title>\n<path fill=\"none\" stroke=\"black\" d=\"M240.83,-375.24C172.69,-369.19 0,-343.21 0,-235 0,-235 0,-235 0,-161 0,-117.63 7.24,-100.41 40,-72 85.21,-32.8 157.81,-22.52 196.93,-19.87\"/>\n</g>\n<!-- 8&#45;&#45;2 -->\n<g id=\"edge17\" class=\"edge\">\n<title>8&#45;&#45;2</title>\n<path fill=\"none\" stroke=\"black\" d=\"M288.95,-366.24C304.01,-357.22 323.16,-342.8 332,-324 338.81,-309.52 333.95,-303.88 332,-288 323.82,-221.58 326.49,-198.74 288,-144 276.05,-127.01 257.29,-112.36 243.17,-102.8\"/>\n</g>\n<!-- 8&#45;&#45;5 -->\n<g id=\"edge18\" class=\"edge\">\n<title>8&#45;&#45;5</title>\n<path fill=\"none\" stroke=\"black\" d=\"M264.74,-359.87C259.55,-332.58 249.47,-279.52 244.27,-252.19\"/>\n</g>\n<!-- 8&#45;&#45;6 -->\n<g id=\"edge19\" class=\"edge\">\n<title>8&#45;&#45;6</title>\n<path fill=\"none\" stroke=\"black\" d=\"M274.64,-360.41C279.1,-349.25 284.96,-334.6 289.41,-323.47\"/>\n</g>\n</g>\n</svg>\n",
            "text/plain": [
              "<graphviz.graphs.Graph at 0x7f6b580eaec0>"
            ]
          },
          "metadata": {},
          "execution_count": 108
        }
      ],
      "source": [
        "# test de la fonction creation_planning_rattrapages et affichage du planning obtenu\n",
        "noms_sommets = ['Cor', 'DLIL', 'AAL', 'AAC', 'FT', 'RSL', 'RL', 'TA', 'SSLM']\n",
        "noms_couleurs = ['1er demi-journée', '2ème demi-journée', '3ème demi-journée', '4éme demi-journée', '5ème demi-journée', '6ème demi-journée', '7ème demi-journée', '8ème demi-journée', '9ème demi-journée', '10ème demi-journée']\n",
        "graphe_examan = [[0,0,1,0,0,0,1,0,1],\n",
        "                 [0,0,0,1,1,0,0,1,0],\n",
        "                 [1,0,0,1,1,0,1,1,1],\n",
        "                 [0,1,1,0,1,1,1,1,0],\n",
        "                 [0,1,1,1,0,0,0,1,0],\n",
        "                 [0,0,0,1,0,0,1,0,1],\n",
        "                 [1,0,1,1,0,1,0,0,1],\n",
        "                 [0,1,1,1,1,0,0,0,0],\n",
        "                 [1,0,1,0,0,1,1,0,0]]\n",
        "graphe_ex_affichage = creation_graphe_graphviz(graphe_examan)\n",
        "affichage_planning(creation_planning_rattrapages(graphe_examan,noms_sommets,noms_couleurs))\n",
        "graphe_ex_affichage"
      ]
    },
    {
      "cell_type": "markdown",
      "metadata": {
        "id": "fMcD9NkpolwE"
      },
      "source": [
        "#### Fonction qui crée un planning de *job dating*, à partir du graphe `graphe`, définissant les liens entre les étudiants et les entreprises choisies par eux\n",
        "`noms_sommets` correspond aux noms des  (c'est-à-dire des étudiants et des entreprises) et `noms_couleurs` correspond aux noms des couleurs (c'est-à-dire le nom des créneaux horaires à considérer dans le planning), pour pouvoir donner le planning en fonction de ces informations (au lieu de conserver les numéros de sommets et les numéros des couleurs)."
      ]
    },
    {
      "cell_type": "code",
      "execution_count": null,
      "metadata": {
        "id": "-aiEyVm6olwE"
      },
      "outputs": [],
      "source": [
        "def creation_planning_job_dating(graphe, noms_sommets, noms_couleurs):\n",
        "    planning = {}\n",
        "    \n",
        "    # à compléter \n",
        "    \n",
        "    return planning"
      ]
    },
    {
      "cell_type": "code",
      "execution_count": null,
      "metadata": {
        "id": "fVQPPY7jolwE"
      },
      "outputs": [],
      "source": [
        "# test de la fonction creation_planning_job_dating et affichage du planning obtenu"
      ]
    },
    {
      "cell_type": "markdown",
      "metadata": {
        "id": "fFQLayGSolwE"
      },
      "source": [
        "#### Fonction qui crée un planning des matchs de badminton d'une journée de championnat, à partir du graphe `graphe`, représentant les incompatibilités entre les matchs (c'est-à-dire les matchs qui ne peuvent pas être joués en même temps car ils comportent un joueur commun)\n",
        "`noms_sommets` correspond aux noms des sommets (c'est-à-dire des matches) et `noms_couleurs` correspond aux noms des couleurs (c'est-à-dire le nom des créneaux horaires à considérer dans le planning), pour pouvoir donner le planning en fonction de ces informations (au lieu de conserver les numéros de sommets et les numéros des couleurs)."
      ]
    },
    {
      "cell_type": "code",
      "execution_count": null,
      "metadata": {
        "id": "xhLZv9htolwE"
      },
      "outputs": [],
      "source": [
        "def creation_planning_badminton(graphe, noms_sommets, noms_couleurs):\n",
        "    planning = {}\n",
        "    \n",
        "    # à compléter \n",
        "    \n",
        "    return planning"
      ]
    },
    {
      "cell_type": "code",
      "execution_count": null,
      "metadata": {
        "id": "HwcWML0GolwF"
      },
      "outputs": [],
      "source": [
        "# test de la fonction creation_planning_badminton et affichage du planning obtenu"
      ]
    },
    {
      "cell_type": "markdown",
      "metadata": {
        "id": "0p87L-3YolwF"
      },
      "source": [
        "### Utilisation des fonctions précédentes pour résoudre les problèmes associés, à partir de graphes à construire\n",
        "A remplir à partir des exemples donnés dans le sujet de SAE."
      ]
    },
    {
      "cell_type": "markdown",
      "metadata": {
        "id": "aqYSG5yFolwF"
      },
      "source": [
        "#### Organisation de rattrapages d'examens"
      ]
    },
    {
      "cell_type": "code",
      "execution_count": null,
      "metadata": {
        "id": "Mhq6-DPZolwG"
      },
      "outputs": [],
      "source": [
        "# cellules de code à écrire"
      ]
    },
    {
      "cell_type": "markdown",
      "metadata": {
        "id": "Q3SAZB61olwG"
      },
      "source": [
        "#### Organisation de sessions de *job meeting*"
      ]
    },
    {
      "cell_type": "code",
      "execution_count": null,
      "metadata": {
        "id": "EVxrLDCColwH"
      },
      "outputs": [],
      "source": [
        "# cellules de code à écrire"
      ]
    },
    {
      "cell_type": "markdown",
      "metadata": {
        "id": "zZPRTKweolwH"
      },
      "source": [
        "#### Planification des matchs d'une rencontre de championnat de badminton"
      ]
    },
    {
      "cell_type": "code",
      "execution_count": null,
      "metadata": {
        "id": "qlbBXhbholwH"
      },
      "outputs": [],
      "source": [
        "# cellules de code à écrire"
      ]
    },
    {
      "cell_type": "markdown",
      "metadata": {
        "id": "tDAfiKIzolwH"
      },
      "source": [
        "#### Planification des matchs d'une rencontre supplémentaire de championnat de badminton\n",
        "\n",
        "Journée de championnat choisie : <donnez le numéro de la journée et les 2 équipes concernées ainsi que le lien vers la page de la ffbd>"
      ]
    },
    {
      "cell_type": "code",
      "execution_count": null,
      "metadata": {
        "id": "S24mr73_olwH"
      },
      "outputs": [],
      "source": [
        "# cellules de code à écrire"
      ]
    }
  ],
  "metadata": {
    "colab": {
      "provenance": [],
      "include_colab_link": true
    },
    "interpreter": {
      "hash": "81117c8c447e168d9a38a96a9ef319fcd55e71c398ce2c2fd7c7a590e37bb453"
    },
    "kernelspec": {
      "display_name": "Python 3.8.5 ('base')",
      "language": "python",
      "name": "python3"
    },
    "language_info": {
      "codemirror_mode": {
        "name": "ipython",
        "version": 3
      },
      "file_extension": ".py",
      "mimetype": "text/x-python",
      "name": "python",
      "nbconvert_exporter": "python",
      "pygments_lexer": "ipython3",
      "version": "3.9.13"
    }
  },
  "nbformat": 4,
  "nbformat_minor": 0
}